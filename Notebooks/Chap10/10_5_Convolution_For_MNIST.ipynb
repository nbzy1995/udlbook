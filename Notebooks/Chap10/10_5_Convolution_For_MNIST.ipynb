{
 "cells": [
  {
   "cell_type": "markdown",
   "metadata": {
    "colab_type": "text",
    "id": "view-in-github"
   },
   "source": [
    "<a href=\"https://colab.research.google.com/github/udlbook/udlbook/blob/main/Notebooks/Chap10/10_5_Convolution_For_MNIST.ipynb\" target=\"_parent\"><img src=\"https://colab.research.google.com/assets/colab-badge.svg\" alt=\"Open In Colab\"/></a>"
   ]
  },
  {
   "cell_type": "markdown",
   "metadata": {
    "id": "t9vk9Elugvmi"
   },
   "source": [
    "# **Notebook 10.5: Convolution for MNIST**\n",
    "\n",
    "This notebook builds a proper network for 2D convolution.  It works with the MNIST dataset (figure 15.15a), which was the original classic dataset for classifying images.  The network will take a 28x28 grayscale image and classify it into one of 10 classes representing a digit.\n",
    "\n",
    "The code is adapted from https://nextjournal.com/gkoehler/pytorch-mnist\n",
    "\n",
    "Work through the cells below, running each cell in turn. In various places you will see the words \"TO DO\". Follow the instructions at these places and make predictions about what is going to happen or write code to complete the functions.\n",
    "\n",
    "Contact me at udlbookmail@gmail.com if you find any mistakes or have any suggestions.\n"
   ]
  },
  {
   "cell_type": "code",
   "execution_count": 2,
   "metadata": {
    "id": "YrXWAH7sUWvU"
   },
   "outputs": [],
   "source": [
    "import torch\n",
    "import torchvision\n",
    "import torch.nn as nn\n",
    "import torch.nn.functional as F\n",
    "import torch.optim as optim\n",
    "import matplotlib.pyplot as plt\n",
    "import random"
   ]
  },
  {
   "cell_type": "code",
   "execution_count": 5,
   "metadata": {
    "id": "wScBGXXFVadm"
   },
   "outputs": [],
   "source": [
    "# Run this once to load the train and test data straight into a dataloader class\n",
    "# that will provide the batches\n",
    "batch_size_train = 64\n",
    "batch_size_test = 1000\n",
    "train_loader = torch.utils.data.DataLoader(\n",
    "  torchvision.datasets.MNIST('.', train=True, download=True,\n",
    "                             transform=torchvision.transforms.Compose([\n",
    "                               torchvision.transforms.ToTensor(),\n",
    "                               torchvision.transforms.Normalize(\n",
    "                                 (0.1307,), (0.3081,))\n",
    "                             ])),\n",
    "  batch_size=batch_size_train, shuffle=True)\n",
    "\n",
    "test_loader = torch.utils.data.DataLoader(\n",
    "  torchvision.datasets.MNIST('.', train=False, download=True,\n",
    "                             transform=torchvision.transforms.Compose([\n",
    "                               torchvision.transforms.ToTensor(),\n",
    "                               torchvision.transforms.Normalize(\n",
    "                                 (0.1307,), (0.3081,))\n",
    "                             ])),\n",
    "  batch_size=batch_size_test, shuffle=True)"
   ]
  },
  {
   "cell_type": "code",
   "execution_count": 6,
   "metadata": {
    "id": "8bKADvLHbiV5"
   },
   "outputs": [
    {
     "data": {
      "image/png": "[encoded data removed]",
      "text/plain": [
       "<Figure size 640x480 with 6 Axes>"
      ]
     },
     "metadata": {},
     "output_type": "display_data"
    }
   ],
   "source": [
    "# Let's draw some of the training data\n",
    "examples = enumerate(test_loader)\n",
    "batch_idx, (example_data, example_targets) = next(examples)\n",
    "\n",
    "fig = plt.figure()\n",
    "for i in range(6):\n",
    "  plt.subplot(2,3,i+1)\n",
    "  plt.tight_layout()\n",
    "  plt.imshow(example_data[i][0], cmap='gray', interpolation='none')\n",
    "  plt.title(\"Ground Truth: {}\".format(example_targets[i]))\n",
    "  plt.xticks([])\n",
    "  plt.yticks([])\n",
    "plt.show()"
   ]
  },
  {
   "cell_type": "code",
   "execution_count": 8,
   "metadata": {},
   "outputs": [
    {
     "data": {
      "text/plain": [
       "torch.Size([1000, 1, 28, 28])"
      ]
     },
     "execution_count": 8,
     "metadata": {},
     "output_type": "execute_result"
    }
   ],
   "source": [
    "example_data.shape"
   ]
  },
  {
   "cell_type": "markdown",
   "metadata": {
    "id": "_sFvRDGrl4qe"
   },
   "source": [
    "Define the network.  This is a more typical way to define a network than the sequential structure.  We define a class for the network, and define the parameters in the constructor.  Then we use a function called forward to actually run the network.  It's easy to see how you might use residual connections in this format."
   ]
  },
  {
   "cell_type": "code",
   "execution_count": 16,
   "metadata": {
    "id": "EQkvw2KOPVl7"
   },
   "outputs": [],
   "source": [
    "from os import X_OK\n",
    "# Change this class to implement\n",
    "# 1. A valid convolution with kernel size 5, 1 input channel and 10 output channels\n",
    "# 2. A max pooling operation over a 2x2 area\n",
    "# 3. A Relu\n",
    "# 4. A valid convolution with kernel size 5, 10 input channels and 20 output channels\n",
    "# 5. A 2D Dropout layer\n",
    "# 6. A max pooling operation over a 2x2 area\n",
    "# 7. A relu\n",
    "# 8. A flattening operation\n",
    "# 9. A fully connected layer mapping from (whatever dimensions we are at-- find out using .shape) to 50\n",
    "# 10. A ReLU\n",
    "# 11. A fully connected layer mapping from 50 to 10 dimensions\n",
    "# 12. A softmax function.\n",
    "\n",
    "# Replace this class which implements a minimal network (which still does okay)\n",
    "class Net(nn.Module):\n",
    "    def __init__(self):\n",
    "        super(Net, self).__init__()\n",
    "        # Input size is 28 x 28\n",
    "\n",
    "        # Valid convolution, 1 channel in, 2 channels out, stride 1, kernel size = 3\n",
    "        self.conv1 = nn.Conv2d(in_channels=1, out_channels=10, kernel_size=5)\n",
    "        self.conv2 = nn.Conv2d(in_channels=10, out_channels=20, kernel_size=5)\n",
    "        # Dropout for convolutions\n",
    "        self.drop = nn.Dropout2d(p=0.5)\n",
    "        # Fully connected layer\n",
    "        self.fc1 = nn.Linear(320, 50)\n",
    "        self.fc2 = nn.Linear(50, 10)\n",
    "\n",
    "    def forward(self, x):\n",
    "        x = self.conv1(x)\n",
    "        x = F.max_pool2d(x,2)\n",
    "        x = F.relu(x)\n",
    "        x = self.conv2(x)\n",
    "        x = self.drop(x)\n",
    "        x = F.max_pool2d(x,2)\n",
    "        x = F.relu(x)\n",
    "        x = x.flatten(1)\n",
    "        x = self.fc1(x)\n",
    "        x = F.relu(x)\n",
    "        x = self.fc2(x)\n",
    "        x = F.log_softmax(x,dim=0)\n",
    "        return x\n"
   ]
  },
  {
   "cell_type": "code",
   "execution_count": 17,
   "metadata": {
    "id": "qWZtkCZcU_dg"
   },
   "outputs": [],
   "source": [
    "# He initialization of weights\n",
    "def weights_init(layer_in):\n",
    "  if isinstance(layer_in, nn.Linear):\n",
    "    nn.init.kaiming_uniform_(layer_in.weight)\n",
    "    layer_in.bias.data.fill_(0.0)"
   ]
  },
  {
   "cell_type": "code",
   "execution_count": 18,
   "metadata": {
    "id": "FslroPJJffrh"
   },
   "outputs": [],
   "source": [
    "# Create network\n",
    "model = Net()\n",
    "# Initialize model weights\n",
    "model.apply(weights_init)\n",
    "# Define optimizer\n",
    "optimizer = optim.SGD(model.parameters(), lr=0.01, momentum=0.5)"
   ]
  },
  {
   "cell_type": "code",
   "execution_count": 19,
   "metadata": {
    "id": "xKQd9PzkQ766"
   },
   "outputs": [],
   "source": [
    "# Main training routine\n",
    "def train(epoch):\n",
    "  model.train()\n",
    "  # Get each\n",
    "  for batch_idx, (data, target) in enumerate(train_loader):\n",
    "    optimizer.zero_grad()\n",
    "    output = model(data)\n",
    "    loss = F.nll_loss(output, target)\n",
    "    loss.backward()\n",
    "    optimizer.step()\n",
    "    # Store results\n",
    "    if batch_idx % 10 == 0:\n",
    "      print('Train Epoch: {} [{}/{}]\\tLoss: {:.6f}'.format(\n",
    "        epoch, batch_idx * len(data), len(train_loader.dataset), loss.item()))"
   ]
  },
  {
   "cell_type": "code",
   "execution_count": 20,
   "metadata": {
    "id": "Byn-f7qWRLxX"
   },
   "outputs": [],
   "source": [
    "# Run on test data\n",
    "def test():\n",
    "  model.eval()\n",
    "  test_loss = 0\n",
    "  correct = 0\n",
    "  with torch.no_grad():\n",
    "    for data, target in test_loader:\n",
    "      output = model(data)\n",
    "      test_loss += F.nll_loss(output, target, size_average=False).item()\n",
    "      pred = output.data.max(1, keepdim=True)[1]\n",
    "      correct += pred.eq(target.data.view_as(pred)).sum()\n",
    "  test_loss /= len(test_loader.dataset)\n",
    "  print('\\nTest set: Avg. loss: {:.4f}, Accuracy: {}/{} ({:.0f}%)\\n'.format(\n",
    "    test_loss, correct, len(test_loader.dataset),\n",
    "    100. * correct / len(test_loader.dataset)))"
   ]
  },
  {
   "cell_type": "code",
   "execution_count": 21,
   "metadata": {
    "id": "YgLaex1pfhqz"
   },
   "outputs": [
    {
     "name": "stderr",
     "output_type": "stream",
     "text": [
      "/home/codespace/.python/current/lib/python3.10/site-packages/torch/nn/_reduction.py:51: UserWarning: size_average and reduce args will be deprecated, please use reduction='sum' instead.\n",
      "  warnings.warn(warning.format(ret))\n"
     ]
    },
    {
     "name": "stdout",
     "output_type": "stream",
     "text": [
      "\n",
      "Test set: Avg. loss: 7.0169, Accuracy: 522/10000 (5%)\n",
      "\n",
      "Train Epoch: 1 [0/60000]\tLoss: 4.609397\n",
      "Train Epoch: 1 [640/60000]\tLoss: 4.103321\n",
      "Train Epoch: 1 [1280/60000]\tLoss: 3.964723\n",
      "Train Epoch: 1 [1920/60000]\tLoss: 3.864447\n",
      "Train Epoch: 1 [2560/60000]\tLoss: 3.804476\n",
      "Train Epoch: 1 [3200/60000]\tLoss: 3.552229\n",
      "Train Epoch: 1 [3840/60000]\tLoss: 3.354437\n",
      "Train Epoch: 1 [4480/60000]\tLoss: 3.145304\n",
      "Train Epoch: 1 [5120/60000]\tLoss: 3.264208\n",
      "Train Epoch: 1 [5760/60000]\tLoss: 3.172566\n",
      "Train Epoch: 1 [6400/60000]\tLoss: 3.190153\n",
      "Train Epoch: 1 [7040/60000]\tLoss: 3.148612\n",
      "Train Epoch: 1 [7680/60000]\tLoss: 3.200733\n",
      "Train Epoch: 1 [8320/60000]\tLoss: 3.099943\n",
      "Train Epoch: 1 [8960/60000]\tLoss: 3.087217\n",
      "Train Epoch: 1 [9600/60000]\tLoss: 3.088169\n",
      "Train Epoch: 1 [10240/60000]\tLoss: 3.042456\n",
      "Train Epoch: 1 [10880/60000]\tLoss: 2.918406\n",
      "Train Epoch: 1 [11520/60000]\tLoss: 3.018026\n",
      "Train Epoch: 1 [12160/60000]\tLoss: 3.065569\n",
      "Train Epoch: 1 [12800/60000]\tLoss: 2.899607\n",
      "Train Epoch: 1 [13440/60000]\tLoss: 2.788789\n",
      "Train Epoch: 1 [14080/60000]\tLoss: 2.836046\n",
      "Train Epoch: 1 [14720/60000]\tLoss: 2.906549\n",
      "Train Epoch: 1 [15360/60000]\tLoss: 2.867622\n",
      "Train Epoch: 1 [16000/60000]\tLoss: 2.694448\n",
      "Train Epoch: 1 [16640/60000]\tLoss: 2.929745\n",
      "Train Epoch: 1 [17280/60000]\tLoss: 2.850358\n",
      "Train Epoch: 1 [17920/60000]\tLoss: 2.824238\n",
      "Train Epoch: 1 [18560/60000]\tLoss: 2.582705\n",
      "Train Epoch: 1 [19200/60000]\tLoss: 2.769819\n",
      "Train Epoch: 1 [19840/60000]\tLoss: 2.740742\n",
      "Train Epoch: 1 [20480/60000]\tLoss: 2.732482\n",
      "Train Epoch: 1 [21120/60000]\tLoss: 2.745083\n",
      "Train Epoch: 1 [21760/60000]\tLoss: 2.796908\n",
      "Train Epoch: 1 [22400/60000]\tLoss: 2.738507\n",
      "Train Epoch: 1 [23040/60000]\tLoss: 2.759665\n",
      "Train Epoch: 1 [23680/60000]\tLoss: 2.742989\n",
      "Train Epoch: 1 [24320/60000]\tLoss: 2.642725\n",
      "Train Epoch: 1 [24960/60000]\tLoss: 2.535416\n",
      "Train Epoch: 1 [25600/60000]\tLoss: 2.733412\n",
      "Train Epoch: 1 [26240/60000]\tLoss: 2.525069\n",
      "Train Epoch: 1 [26880/60000]\tLoss: 2.649274\n",
      "Train Epoch: 1 [27520/60000]\tLoss: 2.705576\n",
      "Train Epoch: 1 [28160/60000]\tLoss: 2.625835\n",
      "Train Epoch: 1 [28800/60000]\tLoss: 2.693054\n",
      "Train Epoch: 1 [29440/60000]\tLoss: 2.702002\n",
      "Train Epoch: 1 [30080/60000]\tLoss: 2.596678\n",
      "Train Epoch: 1 [30720/60000]\tLoss: 2.784373\n",
      "Train Epoch: 1 [31360/60000]\tLoss: 2.538018\n",
      "Train Epoch: 1 [32000/60000]\tLoss: 2.613294\n",
      "Train Epoch: 1 [32640/60000]\tLoss: 2.455240\n",
      "Train Epoch: 1 [33280/60000]\tLoss: 2.566604\n",
      "Train Epoch: 1 [33920/60000]\tLoss: 2.536545\n",
      "Train Epoch: 1 [34560/60000]\tLoss: 2.697889\n",
      "Train Epoch: 1 [35200/60000]\tLoss: 2.539585\n",
      "Train Epoch: 1 [35840/60000]\tLoss: 2.386902\n",
      "Train Epoch: 1 [36480/60000]\tLoss: 2.564018\n",
      "Train Epoch: 1 [37120/60000]\tLoss: 2.629183\n",
      "Train Epoch: 1 [37760/60000]\tLoss: 2.761029\n",
      "Train Epoch: 1 [38400/60000]\tLoss: 2.641920\n",
      "Train Epoch: 1 [39040/60000]\tLoss: 2.517198\n",
      "Train Epoch: 1 [39680/60000]\tLoss: 2.513229\n",
      "Train Epoch: 1 [40320/60000]\tLoss: 2.457019\n",
      "Train Epoch: 1 [40960/60000]\tLoss: 2.476295\n",
      "Train Epoch: 1 [41600/60000]\tLoss: 2.519031\n",
      "Train Epoch: 1 [42240/60000]\tLoss: 2.667331\n",
      "Train Epoch: 1 [42880/60000]\tLoss: 2.454076\n",
      "Train Epoch: 1 [43520/60000]\tLoss: 2.453750\n",
      "Train Epoch: 1 [44160/60000]\tLoss: 2.527079\n",
      "Train Epoch: 1 [44800/60000]\tLoss: 2.584131\n",
      "Train Epoch: 1 [45440/60000]\tLoss: 2.571824\n",
      "Train Epoch: 1 [46080/60000]\tLoss: 2.477842\n",
      "Train Epoch: 1 [46720/60000]\tLoss: 2.545891\n",
      "Train Epoch: 1 [47360/60000]\tLoss: 2.510980\n",
      "Train Epoch: 1 [48000/60000]\tLoss: 2.715622\n",
      "Train Epoch: 1 [48640/60000]\tLoss: 2.463987\n",
      "Train Epoch: 1 [49280/60000]\tLoss: 2.488877\n",
      "Train Epoch: 1 [49920/60000]\tLoss: 2.377008\n",
      "Train Epoch: 1 [50560/60000]\tLoss: 2.611140\n",
      "Train Epoch: 1 [51200/60000]\tLoss: 2.429329\n",
      "Train Epoch: 1 [51840/60000]\tLoss: 2.395583\n",
      "Train Epoch: 1 [52480/60000]\tLoss: 2.548450\n",
      "Train Epoch: 1 [53120/60000]\tLoss: 2.820113\n",
      "Train Epoch: 1 [53760/60000]\tLoss: 2.429531\n",
      "Train Epoch: 1 [54400/60000]\tLoss: 2.518976\n",
      "Train Epoch: 1 [55040/60000]\tLoss: 2.491458\n",
      "Train Epoch: 1 [55680/60000]\tLoss: 2.449827\n",
      "Train Epoch: 1 [56320/60000]\tLoss: 2.446013\n",
      "Train Epoch: 1 [56960/60000]\tLoss: 2.670198\n",
      "Train Epoch: 1 [57600/60000]\tLoss: 2.458162\n",
      "Train Epoch: 1 [58240/60000]\tLoss: 2.372607\n",
      "Train Epoch: 1 [58880/60000]\tLoss: 2.467155\n",
      "Train Epoch: 1 [59520/60000]\tLoss: 2.449942\n",
      "\n",
      "Test set: Avg. loss: 4.9481, Accuracy: 9569/10000 (96%)\n",
      "\n",
      "Train Epoch: 2 [0/60000]\tLoss: 2.365707\n",
      "Train Epoch: 2 [640/60000]\tLoss: 2.395452\n",
      "Train Epoch: 2 [1280/60000]\tLoss: 2.608587\n",
      "Train Epoch: 2 [1920/60000]\tLoss: 2.389031\n",
      "Train Epoch: 2 [2560/60000]\tLoss: 2.567007\n",
      "Train Epoch: 2 [3200/60000]\tLoss: 2.360225\n",
      "Train Epoch: 2 [3840/60000]\tLoss: 2.397423\n",
      "Train Epoch: 2 [4480/60000]\tLoss: 2.484452\n",
      "Train Epoch: 2 [5120/60000]\tLoss: 2.352614\n",
      "Train Epoch: 2 [5760/60000]\tLoss: 2.539137\n",
      "Train Epoch: 2 [6400/60000]\tLoss: 2.377245\n",
      "Train Epoch: 2 [7040/60000]\tLoss: 2.395291\n",
      "Train Epoch: 2 [7680/60000]\tLoss: 2.473485\n",
      "Train Epoch: 2 [8320/60000]\tLoss: 2.325809\n",
      "Train Epoch: 2 [8960/60000]\tLoss: 2.470641\n",
      "Train Epoch: 2 [9600/60000]\tLoss: 2.293937\n",
      "Train Epoch: 2 [10240/60000]\tLoss: 2.403878\n",
      "Train Epoch: 2 [10880/60000]\tLoss: 2.387190\n",
      "Train Epoch: 2 [11520/60000]\tLoss: 2.286463\n",
      "Train Epoch: 2 [12160/60000]\tLoss: 2.440109\n",
      "Train Epoch: 2 [12800/60000]\tLoss: 2.466168\n",
      "Train Epoch: 2 [13440/60000]\tLoss: 2.315039\n",
      "Train Epoch: 2 [14080/60000]\tLoss: 2.355617\n",
      "Train Epoch: 2 [14720/60000]\tLoss: 2.482500\n",
      "Train Epoch: 2 [15360/60000]\tLoss: 2.382476\n",
      "Train Epoch: 2 [16000/60000]\tLoss: 2.287462\n",
      "Train Epoch: 2 [16640/60000]\tLoss: 2.216906\n",
      "Train Epoch: 2 [17280/60000]\tLoss: 2.283366\n",
      "Train Epoch: 2 [17920/60000]\tLoss: 2.483865\n",
      "Train Epoch: 2 [18560/60000]\tLoss: 2.408208\n",
      "Train Epoch: 2 [19200/60000]\tLoss: 2.378450\n",
      "Train Epoch: 2 [19840/60000]\tLoss: 2.504651\n",
      "Train Epoch: 2 [20480/60000]\tLoss: 2.423607\n",
      "Train Epoch: 2 [21120/60000]\tLoss: 2.458443\n",
      "Train Epoch: 2 [21760/60000]\tLoss: 2.442094\n",
      "Train Epoch: 2 [22400/60000]\tLoss: 2.390293\n",
      "Train Epoch: 2 [23040/60000]\tLoss: 2.306016\n",
      "Train Epoch: 2 [23680/60000]\tLoss: 2.290215\n",
      "Train Epoch: 2 [24320/60000]\tLoss: 2.294330\n",
      "Train Epoch: 2 [24960/60000]\tLoss: 2.353558\n",
      "Train Epoch: 2 [25600/60000]\tLoss: 2.235784\n",
      "Train Epoch: 2 [26240/60000]\tLoss: 2.311747\n",
      "Train Epoch: 2 [26880/60000]\tLoss: 2.331326\n",
      "Train Epoch: 2 [27520/60000]\tLoss: 2.345398\n",
      "Train Epoch: 2 [28160/60000]\tLoss: 2.403082\n",
      "Train Epoch: 2 [28800/60000]\tLoss: 2.425087\n",
      "Train Epoch: 2 [29440/60000]\tLoss: 2.222704\n",
      "Train Epoch: 2 [30080/60000]\tLoss: 2.428819\n",
      "Train Epoch: 2 [30720/60000]\tLoss: 2.305277\n",
      "Train Epoch: 2 [31360/60000]\tLoss: 2.237711\n",
      "Train Epoch: 2 [32000/60000]\tLoss: 2.600604\n",
      "Train Epoch: 2 [32640/60000]\tLoss: 2.268314\n",
      "Train Epoch: 2 [33280/60000]\tLoss: 2.434690\n",
      "Train Epoch: 2 [33920/60000]\tLoss: 2.348493\n",
      "Train Epoch: 2 [34560/60000]\tLoss: 2.400892\n",
      "Train Epoch: 2 [35200/60000]\tLoss: 2.375796\n",
      "Train Epoch: 2 [35840/60000]\tLoss: 2.269008\n",
      "Train Epoch: 2 [36480/60000]\tLoss: 2.406367\n",
      "Train Epoch: 2 [37120/60000]\tLoss: 2.249802\n",
      "Train Epoch: 2 [37760/60000]\tLoss: 2.344354\n",
      "Train Epoch: 2 [38400/60000]\tLoss: 2.262863\n",
      "Train Epoch: 2 [39040/60000]\tLoss: 2.264446\n",
      "Train Epoch: 2 [39680/60000]\tLoss: 2.283988\n",
      "Train Epoch: 2 [40320/60000]\tLoss: 2.401937\n",
      "Train Epoch: 2 [40960/60000]\tLoss: 2.232603\n",
      "Train Epoch: 2 [41600/60000]\tLoss: 2.406880\n",
      "Train Epoch: 2 [42240/60000]\tLoss: 2.442251\n",
      "Train Epoch: 2 [42880/60000]\tLoss: 2.273553\n",
      "Train Epoch: 2 [43520/60000]\tLoss: 2.451735\n",
      "Train Epoch: 2 [44160/60000]\tLoss: 2.330472\n",
      "Train Epoch: 2 [44800/60000]\tLoss: 2.293158\n",
      "Train Epoch: 2 [45440/60000]\tLoss: 2.348273\n",
      "Train Epoch: 2 [46080/60000]\tLoss: 2.400753\n",
      "Train Epoch: 2 [46720/60000]\tLoss: 2.307113\n",
      "Train Epoch: 2 [47360/60000]\tLoss: 2.357364\n",
      "Train Epoch: 2 [48000/60000]\tLoss: 2.388771\n",
      "Train Epoch: 2 [48640/60000]\tLoss: 2.362175\n",
      "Train Epoch: 2 [49280/60000]\tLoss: 2.333949\n",
      "Train Epoch: 2 [49920/60000]\tLoss: 2.187030\n",
      "Train Epoch: 2 [50560/60000]\tLoss: 2.223635\n",
      "Train Epoch: 2 [51200/60000]\tLoss: 2.491802\n",
      "Train Epoch: 2 [51840/60000]\tLoss: 2.227766\n",
      "Train Epoch: 2 [52480/60000]\tLoss: 2.327445\n",
      "Train Epoch: 2 [53120/60000]\tLoss: 2.453429\n",
      "Train Epoch: 2 [53760/60000]\tLoss: 2.363383\n",
      "Train Epoch: 2 [54400/60000]\tLoss: 2.342568\n",
      "Train Epoch: 2 [55040/60000]\tLoss: 2.337743\n",
      "Train Epoch: 2 [55680/60000]\tLoss: 2.349940\n",
      "Train Epoch: 2 [56320/60000]\tLoss: 2.293561\n",
      "Train Epoch: 2 [56960/60000]\tLoss: 2.263915\n",
      "Train Epoch: 2 [57600/60000]\tLoss: 2.322675\n",
      "Train Epoch: 2 [58240/60000]\tLoss: 2.359488\n",
      "Train Epoch: 2 [58880/60000]\tLoss: 2.322213\n",
      "Train Epoch: 2 [59520/60000]\tLoss: 2.259414\n",
      "\n",
      "Test set: Avg. loss: 4.8382, Accuracy: 9683/10000 (97%)\n",
      "\n",
      "Train Epoch: 3 [0/60000]\tLoss: 2.371949\n",
      "Train Epoch: 3 [640/60000]\tLoss: 2.440034\n",
      "Train Epoch: 3 [1280/60000]\tLoss: 2.349395\n",
      "Train Epoch: 3 [1920/60000]\tLoss: 2.351709\n",
      "Train Epoch: 3 [2560/60000]\tLoss: 2.206973\n",
      "Train Epoch: 3 [3200/60000]\tLoss: 2.213617\n",
      "Train Epoch: 3 [3840/60000]\tLoss: 2.241655\n",
      "Train Epoch: 3 [4480/60000]\tLoss: 2.313514\n",
      "Train Epoch: 3 [5120/60000]\tLoss: 2.327289\n",
      "Train Epoch: 3 [5760/60000]\tLoss: 2.224759\n",
      "Train Epoch: 3 [6400/60000]\tLoss: 2.390526\n",
      "Train Epoch: 3 [7040/60000]\tLoss: 2.336026\n",
      "Train Epoch: 3 [7680/60000]\tLoss: 2.279437\n",
      "Train Epoch: 3 [8320/60000]\tLoss: 2.350770\n",
      "Train Epoch: 3 [8960/60000]\tLoss: 2.472339\n",
      "Train Epoch: 3 [9600/60000]\tLoss: 2.226286\n",
      "Train Epoch: 3 [10240/60000]\tLoss: 2.293787\n",
      "Train Epoch: 3 [10880/60000]\tLoss: 2.432439\n",
      "Train Epoch: 3 [11520/60000]\tLoss: 2.289377\n",
      "Train Epoch: 3 [12160/60000]\tLoss: 2.191985\n",
      "Train Epoch: 3 [12800/60000]\tLoss: 2.311630\n",
      "Train Epoch: 3 [13440/60000]\tLoss: 2.271858\n",
      "Train Epoch: 3 [14080/60000]\tLoss: 2.339868\n",
      "Train Epoch: 3 [14720/60000]\tLoss: 2.270140\n",
      "Train Epoch: 3 [15360/60000]\tLoss: 2.314660\n",
      "Train Epoch: 3 [16000/60000]\tLoss: 2.275499\n",
      "Train Epoch: 3 [16640/60000]\tLoss: 2.158711\n",
      "Train Epoch: 3 [17280/60000]\tLoss: 2.356686\n",
      "Train Epoch: 3 [17920/60000]\tLoss: 2.483743\n",
      "Train Epoch: 3 [18560/60000]\tLoss: 2.335437\n",
      "Train Epoch: 3 [19200/60000]\tLoss: 2.285594\n",
      "Train Epoch: 3 [19840/60000]\tLoss: 2.285655\n",
      "Train Epoch: 3 [20480/60000]\tLoss: 2.267308\n",
      "Train Epoch: 3 [21120/60000]\tLoss: 2.311189\n",
      "Train Epoch: 3 [21760/60000]\tLoss: 2.237348\n",
      "Train Epoch: 3 [22400/60000]\tLoss: 2.329787\n",
      "Train Epoch: 3 [23040/60000]\tLoss: 2.235170\n",
      "Train Epoch: 3 [23680/60000]\tLoss: 2.448328\n",
      "Train Epoch: 3 [24320/60000]\tLoss: 2.177135\n",
      "Train Epoch: 3 [24960/60000]\tLoss: 2.210681\n",
      "Train Epoch: 3 [25600/60000]\tLoss: 2.238582\n",
      "Train Epoch: 3 [26240/60000]\tLoss: 2.200813\n",
      "Train Epoch: 3 [26880/60000]\tLoss: 2.271992\n",
      "Train Epoch: 3 [27520/60000]\tLoss: 2.211371\n",
      "Train Epoch: 3 [28160/60000]\tLoss: 2.234222\n",
      "Train Epoch: 3 [28800/60000]\tLoss: 2.385731\n",
      "Train Epoch: 3 [29440/60000]\tLoss: 2.333951\n",
      "Train Epoch: 3 [30080/60000]\tLoss: 2.276417\n",
      "Train Epoch: 3 [30720/60000]\tLoss: 2.311190\n",
      "Train Epoch: 3 [31360/60000]\tLoss: 2.394979\n",
      "Train Epoch: 3 [32000/60000]\tLoss: 2.356948\n",
      "Train Epoch: 3 [32640/60000]\tLoss: 2.146548\n",
      "Train Epoch: 3 [33280/60000]\tLoss: 2.307916\n",
      "Train Epoch: 3 [33920/60000]\tLoss: 2.321398\n",
      "Train Epoch: 3 [34560/60000]\tLoss: 2.282949\n",
      "Train Epoch: 3 [35200/60000]\tLoss: 2.410836\n",
      "Train Epoch: 3 [35840/60000]\tLoss: 2.243838\n",
      "Train Epoch: 3 [36480/60000]\tLoss: 2.194105\n",
      "Train Epoch: 3 [37120/60000]\tLoss: 2.259410\n",
      "Train Epoch: 3 [37760/60000]\tLoss: 2.293301\n",
      "Train Epoch: 3 [38400/60000]\tLoss: 2.372355\n",
      "Train Epoch: 3 [39040/60000]\tLoss: 2.288250\n",
      "Train Epoch: 3 [39680/60000]\tLoss: 2.249063\n",
      "Train Epoch: 3 [40320/60000]\tLoss: 2.200210\n",
      "Train Epoch: 3 [40960/60000]\tLoss: 2.236300\n",
      "Train Epoch: 3 [41600/60000]\tLoss: 2.248384\n",
      "Train Epoch: 3 [42240/60000]\tLoss: 2.290683\n",
      "Train Epoch: 3 [42880/60000]\tLoss: 2.186748\n",
      "Train Epoch: 3 [43520/60000]\tLoss: 2.229816\n",
      "Train Epoch: 3 [44160/60000]\tLoss: 2.222216\n",
      "Train Epoch: 3 [44800/60000]\tLoss: 2.189832\n",
      "Train Epoch: 3 [45440/60000]\tLoss: 2.266712\n",
      "Train Epoch: 3 [46080/60000]\tLoss: 2.124047\n",
      "Train Epoch: 3 [46720/60000]\tLoss: 2.358151\n",
      "Train Epoch: 3 [47360/60000]\tLoss: 2.428209\n",
      "Train Epoch: 3 [48000/60000]\tLoss: 2.190649\n",
      "Train Epoch: 3 [48640/60000]\tLoss: 2.169764\n",
      "Train Epoch: 3 [49280/60000]\tLoss: 2.232929\n",
      "Train Epoch: 3 [49920/60000]\tLoss: 2.183343\n",
      "Train Epoch: 3 [50560/60000]\tLoss: 2.305843\n",
      "Train Epoch: 3 [51200/60000]\tLoss: 2.244134\n",
      "Train Epoch: 3 [51840/60000]\tLoss: 2.294691\n",
      "Train Epoch: 3 [52480/60000]\tLoss: 2.273440\n",
      "Train Epoch: 3 [53120/60000]\tLoss: 2.163310\n",
      "Train Epoch: 3 [53760/60000]\tLoss: 2.195456\n",
      "Train Epoch: 3 [54400/60000]\tLoss: 2.195026\n",
      "Train Epoch: 3 [55040/60000]\tLoss: 2.314858\n",
      "Train Epoch: 3 [55680/60000]\tLoss: 2.207830\n",
      "Train Epoch: 3 [56320/60000]\tLoss: 2.290752\n",
      "Train Epoch: 3 [56960/60000]\tLoss: 2.073373\n",
      "Train Epoch: 3 [57600/60000]\tLoss: 2.406426\n",
      "Train Epoch: 3 [58240/60000]\tLoss: 2.271499\n",
      "Train Epoch: 3 [58880/60000]\tLoss: 2.105286\n",
      "Train Epoch: 3 [59520/60000]\tLoss: 2.281637\n",
      "\n",
      "Test set: Avg. loss: 4.7905, Accuracy: 9724/10000 (97%)\n",
      "\n"
     ]
    }
   ],
   "source": [
    "# Get initial performance\n",
    "test()\n",
    "# Train for three epochs\n",
    "n_epochs = 3\n",
    "for epoch in range(1, n_epochs + 1):\n",
    "  train(epoch)\n",
    "  test()"
   ]
  },
  {
   "cell_type": "code",
   "execution_count": 23,
   "metadata": {
    "id": "o7fRUAy9Se1B"
   },
   "outputs": [
    {
     "data": {
      "image/png": "[encoded data removed]",
      "text/plain": [
       "<Figure size 640x480 with 10 Axes>"
      ]
     },
     "metadata": {},
     "output_type": "display_data"
    }
   ],
   "source": [
    "# Run network on data we got before and show predictions\n",
    "output = model(example_data)\n",
    "\n",
    "fig = plt.figure()\n",
    "for i in range(10):\n",
    "  plt.subplot(5,5,i+1)\n",
    "  plt.tight_layout()\n",
    "  plt.imshow(example_data[i][0], cmap='gray', interpolation='none')\n",
    "  plt.title(\"Prediction: {}\".format(\n",
    "    output.data.max(1, keepdim=True)[1][i].item()))\n",
    "  plt.xticks([])\n",
    "  plt.yticks([])\n",
    "plt.show()"
   ]
  },
  {
   "cell_type": "code",
   "execution_count": null,
   "metadata": {},
   "outputs": [],
   "source": []
  }
 ],
 "metadata": {
  "colab": {
   "authorship_tag": "ABX9TyNAcc98STMeyQgh9SbVHWG+",
   "include_colab_link": true,
   "provenance": []
  },
  "kernelspec": {
   "display_name": "Python 3",
   "name": "python3"
  },
  "language_info": {
   "codemirror_mode": {
    "name": "ipython",
    "version": 3
   },
   "file_extension": ".py",
   "mimetype": "text/x-python",
   "name": "python",
   "nbconvert_exporter": "python",
   "pygments_lexer": "ipython3",
   "version": "3.10.13"
  }
 },
 "nbformat": 4,
 "nbformat_minor": 0
}
