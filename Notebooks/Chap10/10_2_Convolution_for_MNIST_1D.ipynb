{
  "cells": [
    {
      "cell_type": "markdown",
      "metadata": {
        "colab_type": "text",
        "id": "view-in-github"
      },
      "source": [
        "<a href=\"https://colab.research.google.com/github/udlbook/udlbook/blob/main/Notebooks/Chap10/10_2_Convolution_for_MNIST_1D.ipynb\" target=\"_parent\"><img src=\"https://colab.research.google.com/assets/colab-badge.svg\" alt=\"Open In Colab\"/></a>"
      ]
    },
    {
      "cell_type": "markdown",
      "metadata": {
        "id": "t9vk9Elugvmi"
      },
      "source": [
        "# **Notebook 10.2: Convolution for MNIST-1D**\n",
        "\n",
        "This notebook investigates a 1D convolutional network for MNIST-1D as in figure 10.7 and 10.8a.\n",
        "\n",
        "Work through the cells below, running each cell in turn. In various places you will see the words \"TO DO\". Follow the instructions at these places and make predictions about what is going to happen or write code to complete the functions.\n",
        "\n",
        "Contact me at udlbookmail@gmail.com if you find any mistakes or have any suggestions.\n",
        "\n"
      ]
    },
    {
      "cell_type": "code",
      "execution_count": 1,
      "metadata": {
        "id": "D5yLObtZCi9J"
      },
      "outputs": [
        {
          "name": "stdout",
          "output_type": "stream",
          "text": [
            "Collecting git+https://github.com/greydanus/mnist1d\n",
            "  Cloning https://github.com/greydanus/mnist1d to /tmp/pip-req-build-67qh5_ye\n",
            "  Running command git clone --filter=blob:none --quiet https://github.com/greydanus/mnist1d /tmp/pip-req-build-67qh5_ye\n",
            "  Resolved https://github.com/greydanus/mnist1d to commit 7878d96082abd200c546a07a4101fa90b30fdf7e\n",
            "  Installing build dependencies ... \u001b[?25ldone\n",
            "\u001b[?25h  Getting requirements to build wheel ... \u001b[?25ldone\n",
            "\u001b[?25h  Preparing metadata (pyproject.toml) ... \u001b[?25ldone\n",
            "\u001b[?25hRequirement already satisfied: requests in /home/codespace/.local/lib/python3.10/site-packages (from mnist1d==0.0.2.post16) (2.32.3)\n",
            "Requirement already satisfied: numpy in /home/codespace/.local/lib/python3.10/site-packages (from mnist1d==0.0.2.post16) (1.26.4)\n",
            "Requirement already satisfied: matplotlib in /home/codespace/.local/lib/python3.10/site-packages (from mnist1d==0.0.2.post16) (3.9.0)\n",
            "Requirement already satisfied: scipy in /home/codespace/.local/lib/python3.10/site-packages (from mnist1d==0.0.2.post16) (1.13.1)\n",
            "Requirement already satisfied: contourpy>=1.0.1 in /home/codespace/.local/lib/python3.10/site-packages (from matplotlib->mnist1d==0.0.2.post16) (1.2.1)\n",
            "Requirement already satisfied: cycler>=0.10 in /home/codespace/.local/lib/python3.10/site-packages (from matplotlib->mnist1d==0.0.2.post16) (0.12.1)\n",
            "Requirement already satisfied: fonttools>=4.22.0 in /home/codespace/.local/lib/python3.10/site-packages (from matplotlib->mnist1d==0.0.2.post16) (4.52.4)\n",
            "Requirement already satisfied: kiwisolver>=1.3.1 in /home/codespace/.local/lib/python3.10/site-packages (from matplotlib->mnist1d==0.0.2.post16) (1.4.5)\n",
            "Requirement already satisfied: packaging>=20.0 in /home/codespace/.local/lib/python3.10/site-packages (from matplotlib->mnist1d==0.0.2.post16) (24.0)\n",
            "Requirement already satisfied: pillow>=8 in /home/codespace/.local/lib/python3.10/site-packages (from matplotlib->mnist1d==0.0.2.post16) (10.3.0)\n",
            "Requirement already satisfied: pyparsing>=2.3.1 in /home/codespace/.local/lib/python3.10/site-packages (from matplotlib->mnist1d==0.0.2.post16) (3.1.2)\n",
            "Requirement already satisfied: python-dateutil>=2.7 in /home/codespace/.local/lib/python3.10/site-packages (from matplotlib->mnist1d==0.0.2.post16) (2.9.0.post0)\n",
            "Requirement already satisfied: charset-normalizer<4,>=2 in /home/codespace/.local/lib/python3.10/site-packages (from requests->mnist1d==0.0.2.post16) (3.3.2)\n",
            "Requirement already satisfied: idna<4,>=2.5 in /home/codespace/.local/lib/python3.10/site-packages (from requests->mnist1d==0.0.2.post16) (3.7)\n",
            "Requirement already satisfied: urllib3<3,>=1.21.1 in /usr/local/python/3.10.13/lib/python3.10/site-packages (from requests->mnist1d==0.0.2.post16) (2.0.7)\n",
            "Requirement already satisfied: certifi>=2017.4.17 in /home/codespace/.local/lib/python3.10/site-packages (from requests->mnist1d==0.0.2.post16) (2024.2.2)\n",
            "Requirement already satisfied: six>=1.5 in /home/codespace/.local/lib/python3.10/site-packages (from python-dateutil>=2.7->matplotlib->mnist1d==0.0.2.post16) (1.16.0)\n",
            "\n",
            "\u001b[1m[\u001b[0m\u001b[34;49mnotice\u001b[0m\u001b[1;39;49m]\u001b[0m\u001b[39;49m A new release of pip is available: \u001b[0m\u001b[31;49m24.0\u001b[0m\u001b[39;49m -> \u001b[0m\u001b[32;49m24.2\u001b[0m\n",
            "\u001b[1m[\u001b[0m\u001b[34;49mnotice\u001b[0m\u001b[1;39;49m]\u001b[0m\u001b[39;49m To update, run: \u001b[0m\u001b[32;49mpython3 -m pip install --upgrade pip\u001b[0m\n"
          ]
        }
      ],
      "source": [
        "# Run this if you're in a Colab to install MNIST 1D repository\n",
        "!pip install git+https://github.com/greydanus/mnist1d"
      ]
    },
    {
      "cell_type": "code",
      "execution_count": 2,
      "metadata": {
        "id": "YrXWAH7sUWvU"
      },
      "outputs": [],
      "source": [
        "import numpy as np\n",
        "import os\n",
        "import torch, torch.nn as nn\n",
        "from torch.utils.data import TensorDataset, DataLoader\n",
        "from torch.optim.lr_scheduler import StepLR\n",
        "import matplotlib.pyplot as plt\n",
        "import mnist1d\n",
        "import random"
      ]
    },
    {
      "cell_type": "code",
      "execution_count": 3,
      "metadata": {
        "id": "twI72ZCrCt5z"
      },
      "outputs": [
        {
          "name": "stdout",
          "output_type": "stream",
          "text": [
            "Successfully loaded data from ./mnist1d_data.pkl\n",
            "Examples in training set: 4000\n",
            "Examples in test set: 1000\n",
            "Length of each example: 40\n"
          ]
        }
      ],
      "source": [
        "args = mnist1d.data.get_dataset_args()\n",
        "data = mnist1d.data.get_dataset(args, path='./mnist1d_data.pkl', download=False, regenerate=False)\n",
        "\n",
        "# The training and test input and outputs are in\n",
        "# data['x'], data['y'], data['x_test'], and data['y_test']\n",
        "print(\"Examples in training set: {}\".format(len(data['y'])))\n",
        "print(\"Examples in test set: {}\".format(len(data['y_test'])))\n",
        "print(\"Length of each example: {}\".format(data['x'].shape[-1]))"
      ]
    },
    {
      "cell_type": "code",
      "execution_count": 4,
      "metadata": {
        "id": "8bKADvLHbiV5"
      },
      "outputs": [
        {
          "name": "stdout",
          "output_type": "stream",
          "text": [
            "Train data: 4000 examples (columns), each of which has 40 dimensions (rows)\n",
            "Validation data: 1000 examples (columns), each of which has 40 dimensions (rows)\n"
          ]
        }
      ],
      "source": [
        "# Load in the data\n",
        "train_data_x = data['x'].transpose()\n",
        "train_data_y = data['y']\n",
        "val_data_x = data['x_test'].transpose()\n",
        "val_data_y = data['y_test']\n",
        "# Print out sizes\n",
        "print(\"Train data: %d examples (columns), each of which has %d dimensions (rows)\"%((train_data_x.shape[1],train_data_x.shape[0])))\n",
        "print(\"Validation data: %d examples (columns), each of which has %d dimensions (rows)\"%((val_data_x.shape[1],val_data_x.shape[0])))"
      ]
    },
    {
      "cell_type": "markdown",
      "metadata": {
        "id": "_sFvRDGrl4qe"
      },
      "source": [
        "Define the network"
      ]
    },
    {
      "cell_type": "code",
      "execution_count": 9,
      "metadata": {
        "id": "FslroPJJffrh"
      },
      "outputs": [],
      "source": [
        "# There are 40 input dimensions and 10 output dimensions for this data\n",
        "# The inputs correspond to the 40 offsets in the MNIST1D template.\n",
        "D_i = 40\n",
        "# The outputs correspond to the 10 digits\n",
        "D_o = 10\n",
        "\n",
        "\n",
        "# Create a model with the following layers\n",
        "# 1. Convolutional layer, (input=length 40 and 1 channel, kernel size 3, stride 2, padding=\"valid\", 15 output channels )\n",
        "# 2. ReLU\n",
        "# 3. Convolutional layer, (input=length 19 and 15 channels, kernel size 3, stride 2, padding=\"valid\", 15 output channels )\n",
        "# 4. ReLU\n",
        "# 5. Convolutional layer, (input=length 9 and 15 channels, kernel size 3, stride 2, padding=\"valid\", 15 output channels)\n",
        "# 6. ReLU\n",
        "# 7. Flatten (converts 4x15) to length 60\n",
        "# 8. Linear layer (input size = 60, output size = 10)\n",
        "# References:\n",
        "# https://pytorch.org/docs/1.13/generated/torch.nn.Conv1d.html?highlight=conv1d#torch.nn.Conv1d\n",
        "# https://pytorch.org/docs/stable/generated/torch.nn.Flatten.html\n",
        "# https://pytorch.org/docs/1.13/generated/torch.nn.Linear.html?highlight=linear#torch.nn.Linear\n",
        "\n",
        "# NOTE THAT THE CONVOLUTIONAL LAYERS NEED TO TAKE THE NUMBER OF INPUT CHANNELS AS A PARAMETER\n",
        "# AND NOT THE INPUT SIZE.\n",
        "\n",
        "model = nn.Sequential(\n",
        "nn.Conv1d(in_channels=1, out_channels=15, kernel_size=3, stride=2,padding=\"valid\"),\n",
        "nn.ReLU(),\n",
        "nn.Conv1d(in_channels=15, out_channels=15, kernel_size=3, stride=2,padding=\"valid\"),\n",
        "nn.ReLU(),\n",
        "nn.Conv1d(in_channels=15, out_channels=15, kernel_size=3, stride=2,padding=\"valid\"),\n",
        "nn.ReLU(),\n",
        "nn.Flatten(),\n",
        "nn.Linear(60, 10)\n",
        ")\n"
      ]
    },
    {
      "cell_type": "code",
      "execution_count": 10,
      "metadata": {
        "id": "YgLaex1pfhqz"
      },
      "outputs": [],
      "source": [
        "# He initialization of weights\n",
        "def weights_init(layer_in):\n",
        "  if isinstance(layer_in, nn.Linear):\n",
        "    nn.init.kaiming_uniform_(layer_in.weight)\n",
        "    layer_in.bias.data.fill_(0.0)"
      ]
    },
    {
      "cell_type": "code",
      "execution_count": 11,
      "metadata": {
        "id": "NYw8I_3mmX5c"
      },
      "outputs": [
        {
          "name": "stdout",
          "output_type": "stream",
          "text": [
            "Epoch     0, train loss 2.085583, train error 77.80,  val loss 2.090098, percent error 79.00\n",
            "Epoch     1, train loss 1.564690, train error 61.53,  val loss 1.592180, percent error 64.70\n",
            "Epoch     2, train loss 1.413162, train error 56.92,  val loss 1.446312, percent error 60.30\n",
            "Epoch     3, train loss 1.317949, train error 55.85,  val loss 1.340983, percent error 57.70\n",
            "Epoch     4, train loss 1.201003, train error 50.33,  val loss 1.240156, percent error 52.80\n",
            "Epoch     5, train loss 1.090802, train error 42.95,  val loss 1.151272, percent error 47.90\n",
            "Epoch     6, train loss 1.012507, train error 41.90,  val loss 1.074218, percent error 46.60\n",
            "Epoch     7, train loss 0.904550, train error 35.78,  val loss 0.988839, percent error 39.30\n",
            "Epoch     8, train loss 0.795518, train error 31.30,  val loss 0.878049, percent error 35.00\n",
            "Epoch     9, train loss 0.744877, train error 28.93,  val loss 0.845475, percent error 34.00\n",
            "Epoch    10, train loss 0.656692, train error 25.35,  val loss 0.741628, percent error 28.80\n",
            "Epoch    11, train loss 0.611148, train error 22.45,  val loss 0.713205, percent error 27.20\n",
            "Epoch    12, train loss 0.532692, train error 19.90,  val loss 0.693386, percent error 26.40\n",
            "Epoch    13, train loss 0.497474, train error 18.75,  val loss 0.651334, percent error 23.70\n",
            "Epoch    14, train loss 0.507491, train error 19.03,  val loss 0.676340, percent error 25.20\n",
            "Epoch    15, train loss 0.400813, train error 14.50,  val loss 0.572644, percent error 20.40\n",
            "Epoch    16, train loss 0.380197, train error 13.93,  val loss 0.534682, percent error 18.50\n",
            "Epoch    17, train loss 0.392397, train error 14.00,  val loss 0.560062, percent error 20.40\n",
            "Epoch    18, train loss 0.461423, train error 17.10,  val loss 0.658378, percent error 22.60\n",
            "Epoch    19, train loss 0.287206, train error 9.72,  val loss 0.429772, percent error 15.70\n",
            "Epoch    20, train loss 0.208222, train error 6.75,  val loss 0.420707, percent error 13.80\n",
            "Epoch    21, train loss 0.206735, train error 7.22,  val loss 0.403161, percent error 14.40\n",
            "Epoch    22, train loss 0.189125, train error 6.38,  val loss 0.436530, percent error 14.80\n",
            "Epoch    23, train loss 0.169814, train error 5.68,  val loss 0.425268, percent error 14.10\n",
            "Epoch    24, train loss 0.156390, train error 5.28,  val loss 0.409768, percent error 13.00\n",
            "Epoch    25, train loss 0.139681, train error 4.30,  val loss 0.397147, percent error 13.50\n",
            "Epoch    26, train loss 0.134871, train error 4.20,  val loss 0.394027, percent error 11.90\n",
            "Epoch    27, train loss 0.147669, train error 5.05,  val loss 0.448439, percent error 14.20\n",
            "Epoch    28, train loss 0.128555, train error 3.85,  val loss 0.412273, percent error 12.10\n",
            "Epoch    29, train loss 0.149312, train error 5.38,  val loss 0.444968, percent error 13.00\n",
            "Epoch    30, train loss 0.120774, train error 3.95,  val loss 0.404354, percent error 11.90\n",
            "Epoch    31, train loss 0.108910, train error 3.38,  val loss 0.415945, percent error 12.40\n",
            "Epoch    32, train loss 0.097468, train error 3.03,  val loss 0.410187, percent error 11.60\n",
            "Epoch    33, train loss 0.115277, train error 3.57,  val loss 0.430831, percent error 12.20\n",
            "Epoch    34, train loss 0.123887, train error 4.72,  val loss 0.463435, percent error 12.80\n",
            "Epoch    35, train loss 0.096288, train error 3.05,  val loss 0.403737, percent error 12.00\n",
            "Epoch    36, train loss 0.093450, train error 3.10,  val loss 0.437346, percent error 12.00\n",
            "Epoch    37, train loss 0.093501, train error 3.15,  val loss 0.439560, percent error 11.50\n",
            "Epoch    38, train loss 0.081755, train error 2.38,  val loss 0.442100, percent error 11.80\n",
            "Epoch    39, train loss 0.077067, train error 2.43,  val loss 0.436953, percent error 11.50\n",
            "Epoch    40, train loss 0.061353, train error 1.57,  val loss 0.407510, percent error 11.10\n",
            "Epoch    41, train loss 0.059858, train error 1.60,  val loss 0.423289, percent error 11.20\n",
            "Epoch    42, train loss 0.057120, train error 1.45,  val loss 0.424087, percent error 11.20\n",
            "Epoch    43, train loss 0.055402, train error 1.38,  val loss 0.428376, percent error 10.20\n",
            "Epoch    44, train loss 0.053472, train error 1.40,  val loss 0.419195, percent error 11.10\n",
            "Epoch    45, train loss 0.052751, train error 1.22,  val loss 0.433302, percent error 11.40\n",
            "Epoch    46, train loss 0.051717, train error 1.30,  val loss 0.433895, percent error 11.00\n",
            "Epoch    47, train loss 0.051467, train error 1.30,  val loss 0.438429, percent error 10.70\n",
            "Epoch    48, train loss 0.051903, train error 1.35,  val loss 0.441277, percent error 11.20\n",
            "Epoch    49, train loss 0.048327, train error 1.22,  val loss 0.447501, percent error 10.80\n",
            "Epoch    50, train loss 0.046503, train error 1.03,  val loss 0.451039, percent error 11.80\n",
            "Epoch    51, train loss 0.044302, train error 1.05,  val loss 0.445524, percent error 11.70\n",
            "Epoch    52, train loss 0.043482, train error 0.97,  val loss 0.441963, percent error 10.90\n",
            "Epoch    53, train loss 0.045192, train error 1.10,  val loss 0.452704, percent error 11.30\n",
            "Epoch    54, train loss 0.041098, train error 0.85,  val loss 0.447747, percent error 11.10\n",
            "Epoch    55, train loss 0.040879, train error 0.88,  val loss 0.462323, percent error 11.00\n",
            "Epoch    56, train loss 0.038781, train error 0.78,  val loss 0.465136, percent error 11.60\n",
            "Epoch    57, train loss 0.039381, train error 0.97,  val loss 0.466516, percent error 11.60\n",
            "Epoch    58, train loss 0.038645, train error 0.90,  val loss 0.461532, percent error 11.20\n",
            "Epoch    59, train loss 0.036751, train error 0.85,  val loss 0.462629, percent error 11.00\n",
            "Epoch    60, train loss 0.035463, train error 0.68,  val loss 0.460000, percent error 11.10\n",
            "Epoch    61, train loss 0.033934, train error 0.62,  val loss 0.463577, percent error 11.20\n",
            "Epoch    62, train loss 0.034110, train error 0.65,  val loss 0.478646, percent error 10.90\n",
            "Epoch    63, train loss 0.033645, train error 0.62,  val loss 0.469940, percent error 10.90\n",
            "Epoch    64, train loss 0.034773, train error 0.68,  val loss 0.471022, percent error 11.50\n",
            "Epoch    65, train loss 0.032380, train error 0.57,  val loss 0.473418, percent error 11.00\n",
            "Epoch    66, train loss 0.032094, train error 0.55,  val loss 0.475013, percent error 10.80\n",
            "Epoch    67, train loss 0.031948, train error 0.45,  val loss 0.477884, percent error 11.30\n",
            "Epoch    68, train loss 0.031095, train error 0.45,  val loss 0.475724, percent error 11.10\n",
            "Epoch    69, train loss 0.031945, train error 0.50,  val loss 0.481454, percent error 11.40\n",
            "Epoch    70, train loss 0.031338, train error 0.60,  val loss 0.481282, percent error 11.40\n",
            "Epoch    71, train loss 0.030980, train error 0.47,  val loss 0.486911, percent error 11.60\n",
            "Epoch    72, train loss 0.029725, train error 0.45,  val loss 0.481813, percent error 11.00\n",
            "Epoch    73, train loss 0.029468, train error 0.47,  val loss 0.486640, percent error 11.40\n",
            "Epoch    74, train loss 0.029250, train error 0.43,  val loss 0.492603, percent error 11.00\n",
            "Epoch    75, train loss 0.028740, train error 0.45,  val loss 0.486457, percent error 10.90\n",
            "Epoch    76, train loss 0.028478, train error 0.40,  val loss 0.491014, percent error 11.30\n",
            "Epoch    77, train loss 0.028195, train error 0.45,  val loss 0.489741, percent error 10.90\n",
            "Epoch    78, train loss 0.027944, train error 0.40,  val loss 0.496995, percent error 11.20\n",
            "Epoch    79, train loss 0.027633, train error 0.38,  val loss 0.498845, percent error 11.20\n",
            "Epoch    80, train loss 0.027045, train error 0.35,  val loss 0.496388, percent error 11.10\n",
            "Epoch    81, train loss 0.027014, train error 0.40,  val loss 0.499959, percent error 11.10\n",
            "Epoch    82, train loss 0.026468, train error 0.35,  val loss 0.498007, percent error 11.00\n",
            "Epoch    83, train loss 0.026415, train error 0.38,  val loss 0.499365, percent error 11.10\n",
            "Epoch    84, train loss 0.026241, train error 0.35,  val loss 0.498864, percent error 11.20\n",
            "Epoch    85, train loss 0.026125, train error 0.35,  val loss 0.505665, percent error 11.30\n",
            "Epoch    86, train loss 0.026333, train error 0.35,  val loss 0.506323, percent error 11.10\n",
            "Epoch    87, train loss 0.025729, train error 0.32,  val loss 0.501543, percent error 10.90\n",
            "Epoch    88, train loss 0.025718, train error 0.38,  val loss 0.505044, percent error 10.70\n",
            "Epoch    89, train loss 0.025698, train error 0.32,  val loss 0.507198, percent error 11.20\n",
            "Epoch    90, train loss 0.025293, train error 0.35,  val loss 0.506624, percent error 11.10\n",
            "Epoch    91, train loss 0.025266, train error 0.32,  val loss 0.503250, percent error 11.20\n",
            "Epoch    92, train loss 0.025072, train error 0.32,  val loss 0.510071, percent error 10.90\n",
            "Epoch    93, train loss 0.024967, train error 0.32,  val loss 0.506229, percent error 11.00\n",
            "Epoch    94, train loss 0.024788, train error 0.35,  val loss 0.510660, percent error 11.40\n",
            "Epoch    95, train loss 0.024725, train error 0.35,  val loss 0.511412, percent error 11.40\n",
            "Epoch    96, train loss 0.025646, train error 0.38,  val loss 0.510238, percent error 11.20\n",
            "Epoch    97, train loss 0.024366, train error 0.35,  val loss 0.510413, percent error 11.30\n",
            "Epoch    98, train loss 0.024198, train error 0.32,  val loss 0.511965, percent error 11.30\n",
            "Epoch    99, train loss 0.024366, train error 0.40,  val loss 0.510598, percent error 11.40\n"
          ]
        },
        {
          "data": {
            "image/png": "[encoded data removed]",
            "text/plain": [
              "<Figure size 640x480 with 1 Axes>"
            ]
          },
          "metadata": {},
          "output_type": "display_data"
        }
      ],
      "source": [
        "# choose cross entropy loss function (equation 5.24 in the loss notes)\n",
        "loss_function = nn.CrossEntropyLoss()\n",
        "# construct SGD optimizer and initialize learning rate and momentum\n",
        "optimizer = torch.optim.SGD(model.parameters(), lr = 0.05, momentum=0.9)\n",
        "# object that decreases learning rate by half every 20 epochs\n",
        "scheduler = StepLR(optimizer, step_size=20, gamma=0.5)\n",
        "# create 100 dummy data points and store in data loader class\n",
        "x_train = torch.tensor(train_data_x.transpose().astype('float32'))\n",
        "y_train = torch.tensor(train_data_y.astype('long')).long()\n",
        "x_val= torch.tensor(val_data_x.transpose().astype('float32'))\n",
        "y_val = torch.tensor(val_data_y.astype('long')).long()\n",
        "\n",
        "# load the data into a class that creates the batches\n",
        "data_loader = DataLoader(TensorDataset(x_train,y_train), batch_size=100, shuffle=True, worker_init_fn=np.random.seed(1))\n",
        "\n",
        "# Initialize model weights\n",
        "model.apply(weights_init)\n",
        "\n",
        "# loop over the dataset n_epoch times\n",
        "n_epoch = 100\n",
        "# store the loss and the % correct at each epoch\n",
        "losses_train = np.zeros((n_epoch))\n",
        "errors_train = np.zeros((n_epoch))\n",
        "losses_val = np.zeros((n_epoch))\n",
        "errors_val = np.zeros((n_epoch))\n",
        "\n",
        "for epoch in range(n_epoch):\n",
        "  # loop over batches\n",
        "  for i, data in enumerate(data_loader):\n",
        "    # retrieve inputs and labels for this batch\n",
        "    x_batch, y_batch = data\n",
        "    # zero the parameter gradients\n",
        "    optimizer.zero_grad()\n",
        "    # forward pass -- calculate model output\n",
        "    pred = model(x_batch[:,None,:])\n",
        "    # compute the loss\n",
        "    loss = loss_function(pred, y_batch)\n",
        "    # backward pass\n",
        "    loss.backward()\n",
        "    # SGD update\n",
        "    optimizer.step()\n",
        "\n",
        "  # Run whole dataset to get statistics -- normally wouldn't do this\n",
        "  pred_train = model(x_train[:,None,:])\n",
        "  pred_val = model(x_val[:,None,:])\n",
        "  _, predicted_train_class = torch.max(pred_train.data, 1)\n",
        "  _, predicted_val_class = torch.max(pred_val.data, 1)\n",
        "  errors_train[epoch] = 100 - 100 * (predicted_train_class == y_train).float().sum() / len(y_train)\n",
        "  errors_val[epoch]= 100 - 100 * (predicted_val_class == y_val).float().sum() / len(y_val)\n",
        "  losses_train[epoch] = loss_function(pred_train, y_train).item()\n",
        "  losses_val[epoch]= loss_function(pred_val, y_val).item()\n",
        "  print(f'Epoch {epoch:5d}, train loss {losses_train[epoch]:.6f}, train error {errors_train[epoch]:3.2f},  val loss {losses_val[epoch]:.6f}, percent error {errors_val[epoch]:3.2f}')\n",
        "\n",
        "  # tell scheduler to consider updating learning rate\n",
        "  scheduler.step()\n",
        "\n",
        "# Plot the results\n",
        "fig, ax = plt.subplots()\n",
        "ax.plot(errors_train,'r-',label='train')\n",
        "ax.plot(errors_val,'b-',label='validation')\n",
        "ax.set_ylim(0,100); ax.set_xlim(0,n_epoch)\n",
        "ax.set_xlabel('Epoch'); ax.set_ylabel('Error')\n",
        "ax.set_title('Part I: Validation Result %3.2f'%(errors_val[-1]))\n",
        "ax.legend()\n",
        "plt.show()"
      ]
    },
    {
      "cell_type": "code",
      "execution_count": null,
      "metadata": {},
      "outputs": [],
      "source": []
    }
  ],
  "metadata": {
    "colab": {
      "authorship_tag": "ABX9TyNb46PJB/CC1pcHGfjpUUZg",
      "include_colab_link": true,
      "provenance": []
    },
    "kernelspec": {
      "display_name": "Python 3",
      "name": "python3"
    },
    "language_info": {
      "codemirror_mode": {
        "name": "ipython",
        "version": 3
      },
      "file_extension": ".py",
      "mimetype": "text/x-python",
      "name": "python",
      "nbconvert_exporter": "python",
      "pygments_lexer": "ipython3",
      "version": "3.10.13"
    }
  },
  "nbformat": 4,
  "nbformat_minor": 0
}
