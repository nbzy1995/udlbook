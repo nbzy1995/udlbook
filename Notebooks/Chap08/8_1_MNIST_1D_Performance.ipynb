{
  "cells": [
    {
      "cell_type": "markdown",
      "metadata": {
        "colab_type": "text",
        "id": "view-in-github"
      },
      "source": [
        "<a href=\"https://colab.research.google.com/github/udlbook/udlbook/blob/main/Notebooks/Chap08/8_1_MNIST_1D_Performance.ipynb\" target=\"_parent\"><img src=\"https://colab.research.google.com/assets/colab-badge.svg\" alt=\"Open In Colab\"/></a>"
      ]
    },
    {
      "cell_type": "markdown",
      "metadata": {
        "id": "L6chybAVFJW2"
      },
      "source": [
        "# **Notebook 8.1: MNIST_1D_Performance**\n",
        "\n",
        "This notebook runs a simple neural network on the MNIST1D dataset as in figure 8.2a. It uses code from https://github.com/greydanus/mnist1d to generate the data.\n",
        "\n",
        "Work through the cells below, running each cell in turn. In various places you will see the words \"TO DO\". Follow the instructions at these places and make predictions about what is going to happen or write code to complete the functions.\n",
        "\n",
        "Contact me at udlbookmail@gmail.com if you find any mistakes or have any suggestions."
      ]
    },
    {
      "cell_type": "code",
      "execution_count": 1,
      "metadata": {
        "id": "ifVjS4cTOqKz"
      },
      "outputs": [
        {
          "name": "stdout",
          "output_type": "stream",
          "text": [
            "Collecting git+https://github.com/greydanus/mnist1d\n",
            "  Cloning https://github.com/greydanus/mnist1d to /tmp/pip-req-build-npc578ut\n",
            "  Running command git clone --filter=blob:none --quiet https://github.com/greydanus/mnist1d /tmp/pip-req-build-npc578ut\n",
            "  Resolved https://github.com/greydanus/mnist1d to commit 350929d12f4c9a4b7355e0c96604e41b9239bdb4\n",
            "  Installing build dependencies ... \u001b[?25ldone\n",
            "\u001b[?25h  Getting requirements to build wheel ... \u001b[?25ldone\n",
            "\u001b[?25h  Preparing metadata (pyproject.toml) ... \u001b[?25ldone\n",
            "\u001b[?25hRequirement already satisfied: requests in /home/codespace/.local/lib/python3.10/site-packages (from mnist1d==0.0.2.post9) (2.32.3)\n",
            "Requirement already satisfied: numpy in /home/codespace/.local/lib/python3.10/site-packages (from mnist1d==0.0.2.post9) (1.26.4)\n",
            "Requirement already satisfied: matplotlib in /home/codespace/.local/lib/python3.10/site-packages (from mnist1d==0.0.2.post9) (3.9.0)\n",
            "Requirement already satisfied: scipy in /home/codespace/.local/lib/python3.10/site-packages (from mnist1d==0.0.2.post9) (1.13.1)\n",
            "Requirement already satisfied: contourpy>=1.0.1 in /home/codespace/.local/lib/python3.10/site-packages (from matplotlib->mnist1d==0.0.2.post9) (1.2.1)\n",
            "Requirement already satisfied: cycler>=0.10 in /home/codespace/.local/lib/python3.10/site-packages (from matplotlib->mnist1d==0.0.2.post9) (0.12.1)\n",
            "Requirement already satisfied: fonttools>=4.22.0 in /home/codespace/.local/lib/python3.10/site-packages (from matplotlib->mnist1d==0.0.2.post9) (4.52.4)\n",
            "Requirement already satisfied: kiwisolver>=1.3.1 in /home/codespace/.local/lib/python3.10/site-packages (from matplotlib->mnist1d==0.0.2.post9) (1.4.5)\n",
            "Requirement already satisfied: packaging>=20.0 in /home/codespace/.local/lib/python3.10/site-packages (from matplotlib->mnist1d==0.0.2.post9) (24.0)\n",
            "Requirement already satisfied: pillow>=8 in /home/codespace/.local/lib/python3.10/site-packages (from matplotlib->mnist1d==0.0.2.post9) (10.3.0)\n",
            "Requirement already satisfied: pyparsing>=2.3.1 in /home/codespace/.local/lib/python3.10/site-packages (from matplotlib->mnist1d==0.0.2.post9) (3.1.2)\n",
            "Requirement already satisfied: python-dateutil>=2.7 in /home/codespace/.local/lib/python3.10/site-packages (from matplotlib->mnist1d==0.0.2.post9) (2.9.0.post0)\n",
            "Requirement already satisfied: charset-normalizer<4,>=2 in /home/codespace/.local/lib/python3.10/site-packages (from requests->mnist1d==0.0.2.post9) (3.3.2)\n",
            "Requirement already satisfied: idna<4,>=2.5 in /home/codespace/.local/lib/python3.10/site-packages (from requests->mnist1d==0.0.2.post9) (3.7)\n",
            "Requirement already satisfied: urllib3<3,>=1.21.1 in /usr/local/python/3.10.13/lib/python3.10/site-packages (from requests->mnist1d==0.0.2.post9) (2.0.7)\n",
            "Requirement already satisfied: certifi>=2017.4.17 in /home/codespace/.local/lib/python3.10/site-packages (from requests->mnist1d==0.0.2.post9) (2024.2.2)\n",
            "Requirement already satisfied: six>=1.5 in /home/codespace/.local/lib/python3.10/site-packages (from python-dateutil>=2.7->matplotlib->mnist1d==0.0.2.post9) (1.16.0)\n",
            "Building wheels for collected packages: mnist1d\n",
            "  Building wheel for mnist1d (pyproject.toml) ... \u001b[?25ldone\n",
            "\u001b[?25h  Created wheel for mnist1d: filename=mnist1d-0.0.2.post9-py3-none-any.whl size=14496 sha256=d408ea8fd7d1e1236d801471d29afbb97fb795e855bf1e9c28576ffd42510d17\n",
            "  Stored in directory: /tmp/pip-ephem-wheel-cache-qafw793l/wheels/41/95/55/45fcf7d38cfa97e35682da6c5017d4513729131326ce935371\n",
            "Successfully built mnist1d\n",
            "Installing collected packages: mnist1d\n",
            "Successfully installed mnist1d-0.0.2.post9\n",
            "\n",
            "\u001b[1m[\u001b[0m\u001b[34;49mnotice\u001b[0m\u001b[1;39;49m]\u001b[0m\u001b[39;49m A new release of pip is available: \u001b[0m\u001b[31;49m24.0\u001b[0m\u001b[39;49m -> \u001b[0m\u001b[32;49m24.1\u001b[0m\n",
            "\u001b[1m[\u001b[0m\u001b[34;49mnotice\u001b[0m\u001b[1;39;49m]\u001b[0m\u001b[39;49m To update, run: \u001b[0m\u001b[32;49mpip install --upgrade pip\u001b[0m\n",
            "Note: you may need to restart the kernel to use updated packages.\n"
          ]
        }
      ],
      "source": [
        "# Run this if you're in a Colab to install MNIST 1D repository\n",
        "%pip install git+https://github.com/greydanus/mnist1d"
      ]
    },
    {
      "cell_type": "code",
      "execution_count": 2,
      "metadata": {
        "id": "qyE7G1StPIqO"
      },
      "outputs": [],
      "source": [
        "import torch, torch.nn as nn\n",
        "from torch.utils.data import TensorDataset, DataLoader\n",
        "from torch.optim.lr_scheduler import StepLR\n",
        "import numpy as np\n",
        "import matplotlib.pyplot as plt\n",
        "import mnist1d"
      ]
    },
    {
      "cell_type": "markdown",
      "metadata": {
        "id": "F7LNq72SP6jO"
      },
      "source": [
        "Let's generate a training and test dataset using the MNIST1D code.  The dataset gets saved as a .pkl file so it doesn't have to be regenerated each time."
      ]
    },
    {
      "cell_type": "code",
      "execution_count": 5,
      "metadata": {
        "id": "YLxf7dJfPaqw"
      },
      "outputs": [
        {
          "name": "stdout",
          "output_type": "stream",
          "text": [
            "mkdir: cannot create directory ‘./sample_data’: File exists\n",
            "Successfully loaded data from ./sample_data/mnist1d_data.pkl\n",
            "Examples in training set: 4000\n",
            "Examples in test set: 1000\n",
            "Length of each example: 40\n"
          ]
        }
      ],
      "source": [
        "!mkdir ./sample_data\n",
        "\n",
        "args = mnist1d.data.get_dataset_args()\n",
        "data = mnist1d.data.get_dataset(args, path='./sample_data/mnist1d_data.pkl', download=False, regenerate=False)\n",
        "\n",
        "# The training and test input and outputs are in\n",
        "# data['x'], data['y'], data['x_test'], and data['y_test']\n",
        "print(\"Examples in training set: {}\".format(len(data['y'])))\n",
        "print(\"Examples in test set: {}\".format(len(data['y_test'])))\n",
        "print(\"Length of each example: {}\".format(data['x'].shape[-1]))"
      ]
    },
    {
      "cell_type": "code",
      "execution_count": 6,
      "metadata": {
        "id": "FxaB5vc0uevl"
      },
      "outputs": [
        {
          "name": "stdout",
          "output_type": "stream",
          "text": [
            "Initializing layer\n",
            "Initializing layer\n",
            "Initializing layer\n",
            "Initializing layer\n",
            "Initializing layer\n",
            "Initializing layer\n",
            "Initializing layer\n"
          ]
        },
        {
          "data": {
            "text/plain": [
              "Sequential(\n",
              "  (0): Linear(in_features=40, out_features=100, bias=True)\n",
              "  (1): ReLU()\n",
              "  (2): Linear(in_features=100, out_features=100, bias=True)\n",
              "  (3): ReLU()\n",
              "  (4): Linear(in_features=100, out_features=10, bias=True)\n",
              "  (5): ReLU()\n",
              ")"
            ]
          },
          "execution_count": 6,
          "metadata": {},
          "output_type": "execute_result"
        }
      ],
      "source": [
        "D_i = 40    # Input dimensions\n",
        "D_k = 100   # Hidden dimensions\n",
        "D_o = 10    # Output dimensions\n",
        "# TO DO:\n",
        "# Define a model with two hidden layers of size 100\n",
        "# And ReLU activations between them\n",
        "# Replace this line (see Figure 7.8 of book for help):\n",
        "model = torch.nn.Sequential(\n",
        "            torch.nn.Linear(D_i, D_k),\n",
        "            torch.nn.ReLU(),\n",
        "            torch.nn.Linear(D_k, D_k),\n",
        "            torch.nn.ReLU(),\n",
        "            torch.nn.Linear(D_k, D_o),\n",
        "            torch.nn.ReLU()\n",
        "          )\n",
        "\n",
        "def weights_init(layer_in):\n",
        "  # TO DO:\n",
        "  # Initialize the parameters with He initialization\n",
        "  # Replace this line (see figure 7.8 of book for help)\n",
        "  print(\"Initializing layer\")\n",
        "  if isinstance(layer_in, nn.Linear): \n",
        "    nn.init.kaiming_normal_(layer_in.weight) \n",
        "    layer_in.bias.data.fill_(0.0)\n",
        "\n",
        "\n",
        "# Call the function you just defined\n",
        "model.apply(weights_init)\n"
      ]
    },
    {
      "cell_type": "code",
      "execution_count": 19,
      "metadata": {
        "id": "_rX6N3VyyQTY"
      },
      "outputs": [
        {
          "name": "stdout",
          "output_type": "stream",
          "text": [
            "Initializing layer\n",
            "Initializing layer\n",
            "Initializing layer\n",
            "Initializing layer\n",
            "Initializing layer\n",
            "Initializing layer\n",
            "Initializing layer\n",
            "Epoch     0, train loss 1.943699, train error 74.38 %,  test loss 1.998411, test error 75.80 %\n",
            "Epoch     1, train loss 1.724608, train error 63.58 %,  test loss 1.805195, test error 66.50 %\n",
            "Epoch     2, train loss 1.634149, train error 60.83 %,  test loss 1.743100, test error 65.60 %\n",
            "Epoch     3, train loss 1.539863, train error 56.12 %,  test loss 1.649250, test error 60.80 %\n",
            "Epoch     4, train loss 1.436492, train error 50.22 %,  test loss 1.587405, test error 56.30 %\n",
            "Epoch     5, train loss 1.281235, train error 43.88 %,  test loss 1.471560, test error 52.10 %\n",
            "Epoch     6, train loss 1.223127, train error 41.75 %,  test loss 1.417297, test error 49.00 %\n",
            "Epoch     7, train loss 1.168619, train error 40.72 %,  test loss 1.423126, test error 50.40 %\n",
            "Epoch     8, train loss 1.112291, train error 39.58 %,  test loss 1.389027, test error 50.10 %\n",
            "Epoch     9, train loss 1.075734, train error 38.28 %,  test loss 1.357897, test error 48.70 %\n",
            "Epoch    10, train loss 1.031477, train error 37.10 %,  test loss 1.362101, test error 48.50 %\n",
            "Epoch    11, train loss 1.021010, train error 36.67 %,  test loss 1.362637, test error 48.30 %\n",
            "Epoch    12, train loss 0.990761, train error 36.33 %,  test loss 1.352158, test error 47.30 %\n",
            "Epoch    13, train loss 0.960442, train error 35.03 %,  test loss 1.380352, test error 48.10 %\n",
            "Epoch    14, train loss 0.951187, train error 35.75 %,  test loss 1.377254, test error 48.30 %\n",
            "Epoch    15, train loss 0.935849, train error 34.93 %,  test loss 1.389964, test error 48.40 %\n",
            "Epoch    16, train loss 0.899646, train error 33.88 %,  test loss 1.346435, test error 47.00 %\n",
            "Epoch    17, train loss 0.883692, train error 33.72 %,  test loss 1.385089, test error 47.20 %\n",
            "Epoch    18, train loss 0.864276, train error 33.10 %,  test loss 1.379121, test error 46.40 %\n",
            "Epoch    19, train loss 0.851036, train error 32.85 %,  test loss 1.379023, test error 47.00 %\n",
            "Epoch    20, train loss 0.846159, train error 32.93 %,  test loss 1.395656, test error 46.90 %\n",
            "Epoch    21, train loss 0.828295, train error 32.78 %,  test loss 1.374437, test error 46.60 %\n",
            "Epoch    22, train loss 0.823047, train error 32.68 %,  test loss 1.389767, test error 47.20 %\n",
            "Epoch    23, train loss 0.819567, train error 32.70 %,  test loss 1.407531, test error 46.90 %\n",
            "Epoch    24, train loss 0.803706, train error 32.53 %,  test loss 1.395047, test error 46.70 %\n",
            "Epoch    25, train loss 0.798492, train error 32.47 %,  test loss 1.397893, test error 47.10 %\n",
            "Epoch    26, train loss 0.795518, train error 32.45 %,  test loss 1.397945, test error 46.80 %\n",
            "Epoch    27, train loss 0.790395, train error 32.47 %,  test loss 1.404459, test error 46.40 %\n",
            "Epoch    28, train loss 0.785621, train error 32.50 %,  test loss 1.400316, test error 46.80 %\n",
            "Epoch    29, train loss 0.780892, train error 32.47 %,  test loss 1.402409, test error 46.10 %\n",
            "Epoch    30, train loss 0.778194, train error 32.50 %,  test loss 1.429296, test error 46.30 %\n",
            "Epoch    31, train loss 0.775556, train error 32.50 %,  test loss 1.424521, test error 46.40 %\n",
            "Epoch    32, train loss 0.773949, train error 32.50 %,  test loss 1.426728, test error 46.70 %\n",
            "Epoch    33, train loss 0.771530, train error 32.47 %,  test loss 1.429320, test error 46.60 %\n",
            "Epoch    34, train loss 0.771200, train error 32.47 %,  test loss 1.433330, test error 46.00 %\n",
            "Epoch    35, train loss 0.768836, train error 32.47 %,  test loss 1.441831, test error 46.70 %\n",
            "Epoch    36, train loss 0.767785, train error 32.47 %,  test loss 1.439434, test error 46.10 %\n",
            "Epoch    37, train loss 0.766897, train error 32.47 %,  test loss 1.444244, test error 46.50 %\n",
            "Epoch    38, train loss 0.765701, train error 32.47 %,  test loss 1.451961, test error 46.20 %\n",
            "Epoch    39, train loss 0.764459, train error 32.47 %,  test loss 1.453186, test error 46.40 %\n",
            "Epoch    40, train loss 0.763485, train error 32.45 %,  test loss 1.453098, test error 46.50 %\n",
            "Epoch    41, train loss 0.762711, train error 32.45 %,  test loss 1.466410, test error 46.40 %\n",
            "Epoch    42, train loss 0.761780, train error 32.45 %,  test loss 1.461750, test error 46.80 %\n",
            "Epoch    43, train loss 0.761201, train error 32.45 %,  test loss 1.466101, test error 46.50 %\n",
            "Epoch    44, train loss 0.761032, train error 32.45 %,  test loss 1.472165, test error 46.80 %\n",
            "Epoch    45, train loss 0.760712, train error 32.45 %,  test loss 1.463135, test error 46.30 %\n",
            "Epoch    46, train loss 0.759663, train error 32.45 %,  test loss 1.468718, test error 46.70 %\n",
            "Epoch    47, train loss 0.759253, train error 32.45 %,  test loss 1.475785, test error 46.40 %\n",
            "Epoch    48, train loss 0.758662, train error 32.45 %,  test loss 1.483346, test error 46.60 %\n",
            "Epoch    49, train loss 0.758380, train error 32.45 %,  test loss 1.476173, test error 46.30 %\n"
          ]
        }
      ],
      "source": [
        "# choose cross entropy loss function (equation 5.24)\n",
        "loss_function = torch.nn.CrossEntropyLoss()\n",
        "# construct SGD optimizer and initialize learning rate and momentum\n",
        "optimizer = torch.optim.SGD(model.parameters(), lr = 0.05, momentum=0.9)\n",
        "# object that decreases learning rate by half every 10 epochs\n",
        "scheduler = StepLR(optimizer, step_size=10, gamma=0.75)\n",
        "x_train = torch.tensor(data['x'].astype('float32'))\n",
        "y_train = torch.tensor(data['y'].transpose().astype('long'))\n",
        "x_test= torch.tensor(data['x_test'].astype('float32'))\n",
        "y_test = torch.tensor(data['y_test'].astype('long'))\n",
        "\n",
        "# load the data into a class that creates the batches\n",
        "data_loader = DataLoader(TensorDataset(x_train,y_train), batch_size=100, shuffle=True, worker_init_fn=np.random.seed(1))\n",
        "\n",
        "# Initialize model weights\n",
        "model.apply(weights_init)\n",
        "\n",
        "# loop over the dataset n_epoch times\n",
        "n_epoch = 50\n",
        "# store the loss and the % correct at each epoch\n",
        "losses_train = np.zeros((n_epoch))\n",
        "errors_train = np.zeros((n_epoch))\n",
        "losses_test = np.zeros((n_epoch))\n",
        "errors_test = np.zeros((n_epoch))\n",
        "\n",
        "for epoch in range(n_epoch):\n",
        "  # loop over batches\n",
        "  for i, batch in enumerate(data_loader):\n",
        "    # retrieve inputs and labels for this batch\n",
        "    x_batch, y_batch = batch\n",
        "    # zero the parameter gradients\n",
        "    optimizer.zero_grad()\n",
        "    # forward pass -- calculate model output\n",
        "    pred = model(x_batch)\n",
        "    # compute the loss\n",
        "    loss = loss_function(pred, y_batch)\n",
        "    # backward pass\n",
        "    loss.backward()\n",
        "    # SGD update\n",
        "    optimizer.step()\n",
        "\n",
        "  # Run whole dataset to get statistics -- normally wouldn't do this\n",
        "  pred_train = model(x_train)\n",
        "  pred_test = model(x_test)\n",
        "  _, predicted_train_class = torch.max(pred_train.data, 1)\n",
        "  _, predicted_test_class = torch.max(pred_test.data, 1)\n",
        "  errors_train[epoch] = 100 - 100 * (predicted_train_class == y_train).float().sum() / len(y_train)\n",
        "  errors_test[epoch]= 100 - 100 * (predicted_test_class == y_test).float().sum() / len(y_test)\n",
        "  losses_train[epoch] = loss_function(pred_train, y_train).item()\n",
        "  losses_test[epoch]= loss_function(pred_test, y_test).item()\n",
        "  print(f'Epoch {epoch:5d}, train loss {losses_train[epoch]:.6f}, train error {errors_train[epoch]:3.2f} %,  test loss {losses_test[epoch]:.6f}, test error {errors_test[epoch]:3.2f} %')\n",
        "\n",
        "  # tell scheduler to consider updating learning rate\n",
        "  scheduler.step()"
      ]
    },
    {
      "cell_type": "code",
      "execution_count": 20,
      "metadata": {
        "id": "yI-l6kA_EH9G"
      },
      "outputs": [
        {
          "data": {
            "image/png": "[encoded data removed]",
            "text/plain": [
              "<Figure size 640x480 with 1 Axes>"
            ]
          },
          "metadata": {},
          "output_type": "display_data"
        },
        {
          "data": {
            "image/png": "[encoded data removed]",
            "text/plain": [
              "<Figure size 640x480 with 1 Axes>"
            ]
          },
          "metadata": {},
          "output_type": "display_data"
        }
      ],
      "source": [
        "# Plot the results\n",
        "fig, ax = plt.subplots()\n",
        "ax.plot(errors_train,'r-',label='train')\n",
        "ax.plot(errors_test,'b-',label='test')\n",
        "ax.set_ylim(0,100); ax.set_xlim(0,n_epoch)\n",
        "ax.set_xlabel('Epoch'); ax.set_ylabel('Error')\n",
        "ax.set_title('TrainError %3.2f, Test Error %3.2f'%(errors_train[-1],errors_test[-1]))\n",
        "ax.legend()\n",
        "plt.show()\n",
        "\n",
        "# Plot the results\n",
        "fig, ax = plt.subplots()\n",
        "ax.plot(losses_train,'r-',label='train')\n",
        "ax.plot(losses_test,'b-',label='test')\n",
        "ax.set_xlim(0,n_epoch)\n",
        "ax.set_xlabel('Epoch'); ax.set_ylabel('Loss')\n",
        "ax.set_title(r'Train loss %3.2f, Test loss %3.2f'%(losses_train[-1],losses_test[-1]))\n",
        "ax.legend()\n",
        "plt.show()"
      ]
    },
    {
      "cell_type": "markdown",
      "metadata": {
        "id": "q-yT6re6GZS4"
      },
      "source": [
        "**TO DO**\n",
        "\n",
        "Play with the model -- try changing the number of layers, hidden units, learning rate, batch size, momentum or anything else you like.  See if you can improve the test results.\n",
        "\n",
        "Is it a good idea to optimize the hyperparameters in this way?  Will the final result be a good estimate of the true test performance?"
      ]
    },
    {
      "cell_type": "code",
      "execution_count": 17,
      "metadata": {},
      "outputs": [
        {
          "data": {
            "text/plain": [
              "tensor([-0.3320, -0.4719, -0.7787, -1.0097, -0.8824,  0.1039,  1.6433,  1.6525,\n",
              "         0.6831, -0.3426, -1.5214, -1.1040, -0.0171,  1.0147,  0.6236, -0.0239,\n",
              "         0.2541,  0.8674,  0.9354,  1.0359,  1.5935,  1.2368,  0.4102, -0.2198,\n",
              "         0.0981,  0.5302,  0.5203,  0.1900,  0.0704,  0.3243,  0.2686, -0.5791,\n",
              "        -1.0935, -0.8646, -0.1135,  0.0195, -0.3282, -0.7167, -0.9620, -0.8902])"
            ]
          },
          "execution_count": 17,
          "metadata": {},
          "output_type": "execute_result"
        }
      ],
      "source": [
        "x_train[0]"
      ]
    },
    {
      "cell_type": "code",
      "execution_count": 18,
      "metadata": {},
      "outputs": [
        {
          "data": {
            "text/plain": [
              "tensor([0.0000, 4.9939, 9.5700, 0.0000, 2.2546, 6.5844, 0.0000, 1.6562, 0.0000,\n",
              "        4.4077], grad_fn=<ReluBackward0>)"
            ]
          },
          "execution_count": 18,
          "metadata": {},
          "output_type": "execute_result"
        }
      ],
      "source": [
        "model(x_train[0])"
      ]
    },
    {
      "cell_type": "code",
      "execution_count": null,
      "metadata": {},
      "outputs": [],
      "source": []
    }
  ],
  "metadata": {
    "accelerator": "GPU",
    "colab": {
      "authorship_tag": "ABX9TyOuKMUcKfOIhIL2qTX9jJCy",
      "gpuType": "T4",
      "include_colab_link": true,
      "provenance": []
    },
    "kernelspec": {
      "display_name": "Python 3",
      "name": "python3"
    },
    "language_info": {
      "codemirror_mode": {
        "name": "ipython",
        "version": 3
      },
      "file_extension": ".py",
      "mimetype": "text/x-python",
      "name": "python",
      "nbconvert_exporter": "python",
      "pygments_lexer": "ipython3",
      "version": "3.10.13"
    }
  },
  "nbformat": 4,
  "nbformat_minor": 0
}
