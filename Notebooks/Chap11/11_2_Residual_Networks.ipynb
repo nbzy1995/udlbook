{
 "cells": [
  {
   "cell_type": "markdown",
   "metadata": {
    "colab_type": "text",
    "id": "view-in-github"
   },
   "source": [
    "<a href=\"https://colab.research.google.com/github/udlbook/udlbook/blob/main/Notebooks/Chap11/11_2_Residual_Networks.ipynb\" target=\"_parent\"><img src=\"https://colab.research.google.com/assets/colab-badge.svg\" alt=\"Open In Colab\"/></a>"
   ]
  },
  {
   "cell_type": "markdown",
   "metadata": {
    "id": "t9vk9Elugvmi"
   },
   "source": [
    "# **Notebook 11.2: Residual Networks**\n",
    "\n",
    "This notebook adapts the networks for MNIST1D to use residual connections.\n",
    "\n",
    "Work through the cells below, running each cell in turn. In various places you will see the words \"TO DO\". Follow the instructions at these places and make predictions about what is going to happen or write code to complete the functions.\n",
    "\n",
    "Contact me at udlbookmail@gmail.com if you find any mistakes or have any suggestions.\n",
    "\n"
   ]
  },
  {
   "cell_type": "code",
   "execution_count": 1,
   "metadata": {
    "id": "D5yLObtZCi9J"
   },
   "outputs": [
    {
     "name": "stdout",
     "output_type": "stream",
     "text": [
      "Collecting git+https://github.com/greydanus/mnist1d\n",
      "  Cloning https://github.com/greydanus/mnist1d to /tmp/pip-req-build-syy89mpt\n",
      "  Running command git clone --filter=blob:none --quiet https://github.com/greydanus/mnist1d /tmp/pip-req-build-syy89mpt\n",
      "  Resolved https://github.com/greydanus/mnist1d to commit 7878d96082abd200c546a07a4101fa90b30fdf7e\n",
      "  Installing build dependencies ... \u001b[?25ldone\n",
      "\u001b[?25h  Getting requirements to build wheel ... \u001b[?25ldone\n",
      "\u001b[?25h  Preparing metadata (pyproject.toml) ... \u001b[?25ldone\n",
      "\u001b[?25hRequirement already satisfied: requests in /home/codespace/.local/lib/python3.10/site-packages (from mnist1d==0.0.2.post16) (2.32.3)\n",
      "Requirement already satisfied: numpy in /home/codespace/.local/lib/python3.10/site-packages (from mnist1d==0.0.2.post16) (1.26.4)\n",
      "Requirement already satisfied: matplotlib in /home/codespace/.local/lib/python3.10/site-packages (from mnist1d==0.0.2.post16) (3.9.0)\n",
      "Requirement already satisfied: scipy in /home/codespace/.local/lib/python3.10/site-packages (from mnist1d==0.0.2.post16) (1.13.1)\n",
      "Requirement already satisfied: contourpy>=1.0.1 in /home/codespace/.local/lib/python3.10/site-packages (from matplotlib->mnist1d==0.0.2.post16) (1.2.1)\n",
      "Requirement already satisfied: cycler>=0.10 in /home/codespace/.local/lib/python3.10/site-packages (from matplotlib->mnist1d==0.0.2.post16) (0.12.1)\n",
      "Requirement already satisfied: fonttools>=4.22.0 in /home/codespace/.local/lib/python3.10/site-packages (from matplotlib->mnist1d==0.0.2.post16) (4.52.4)\n",
      "Requirement already satisfied: kiwisolver>=1.3.1 in /home/codespace/.local/lib/python3.10/site-packages (from matplotlib->mnist1d==0.0.2.post16) (1.4.5)\n",
      "Requirement already satisfied: packaging>=20.0 in /home/codespace/.local/lib/python3.10/site-packages (from matplotlib->mnist1d==0.0.2.post16) (24.0)\n",
      "Requirement already satisfied: pillow>=8 in /home/codespace/.local/lib/python3.10/site-packages (from matplotlib->mnist1d==0.0.2.post16) (10.3.0)\n",
      "Requirement already satisfied: pyparsing>=2.3.1 in /home/codespace/.local/lib/python3.10/site-packages (from matplotlib->mnist1d==0.0.2.post16) (3.1.2)\n",
      "Requirement already satisfied: python-dateutil>=2.7 in /home/codespace/.local/lib/python3.10/site-packages (from matplotlib->mnist1d==0.0.2.post16) (2.9.0.post0)\n",
      "Requirement already satisfied: charset-normalizer<4,>=2 in /home/codespace/.local/lib/python3.10/site-packages (from requests->mnist1d==0.0.2.post16) (3.3.2)\n",
      "Requirement already satisfied: idna<4,>=2.5 in /home/codespace/.local/lib/python3.10/site-packages (from requests->mnist1d==0.0.2.post16) (3.7)\n",
      "Requirement already satisfied: urllib3<3,>=1.21.1 in /usr/local/python/3.10.13/lib/python3.10/site-packages (from requests->mnist1d==0.0.2.post16) (2.0.7)\n",
      "Requirement already satisfied: certifi>=2017.4.17 in /home/codespace/.local/lib/python3.10/site-packages (from requests->mnist1d==0.0.2.post16) (2024.2.2)\n",
      "Requirement already satisfied: six>=1.5 in /home/codespace/.local/lib/python3.10/site-packages (from python-dateutil>=2.7->matplotlib->mnist1d==0.0.2.post16) (1.16.0)\n",
      "\n",
      "\u001b[1m[\u001b[0m\u001b[34;49mnotice\u001b[0m\u001b[1;39;49m]\u001b[0m\u001b[39;49m A new release of pip is available: \u001b[0m\u001b[31;49m24.0\u001b[0m\u001b[39;49m -> \u001b[0m\u001b[32;49m24.3.1\u001b[0m\n",
      "\u001b[1m[\u001b[0m\u001b[34;49mnotice\u001b[0m\u001b[1;39;49m]\u001b[0m\u001b[39;49m To update, run: \u001b[0m\u001b[32;49mpython3 -m pip install --upgrade pip\u001b[0m\n"
     ]
    }
   ],
   "source": [
    "# Run this if you're in a Colab to install MNIST 1D repository\n",
    "!pip install git+https://github.com/greydanus/mnist1d"
   ]
  },
  {
   "cell_type": "code",
   "execution_count": 2,
   "metadata": {
    "id": "YrXWAH7sUWvU"
   },
   "outputs": [],
   "source": [
    "import numpy as np\n",
    "import os\n",
    "import torch, torch.nn as nn\n",
    "from torch.utils.data import TensorDataset, DataLoader\n",
    "from torch.optim.lr_scheduler import StepLR\n",
    "import matplotlib.pyplot as plt\n",
    "import mnist1d\n",
    "import random"
   ]
  },
  {
   "cell_type": "code",
   "execution_count": 3,
   "metadata": {
    "id": "twI72ZCrCt5z"
   },
   "outputs": [
    {
     "name": "stdout",
     "output_type": "stream",
     "text": [
      "Successfully loaded data from ./mnist1d_data.pkl\n",
      "Examples in training set: 4000\n",
      "Examples in test set: 1000\n",
      "Length of each example: 40\n"
     ]
    }
   ],
   "source": [
    "args = mnist1d.data.get_dataset_args()\n",
    "data = mnist1d.data.get_dataset(args, path='./mnist1d_data.pkl', download=False, regenerate=False)\n",
    "\n",
    "# The training and test input and outputs are in\n",
    "# data['x'], data['y'], data['x_test'], and data['y_test']\n",
    "print(\"Examples in training set: {}\".format(len(data['y'])))\n",
    "print(\"Examples in test set: {}\".format(len(data['y_test'])))\n",
    "print(\"Length of each example: {}\".format(data['x'].shape[-1]))"
   ]
  },
  {
   "cell_type": "code",
   "execution_count": 4,
   "metadata": {
    "id": "8bKADvLHbiV5"
   },
   "outputs": [
    {
     "name": "stdout",
     "output_type": "stream",
     "text": [
      "Train data: 4000 examples (columns), each of which has 40 dimensions (rows)\n",
      "Validation data: 1000 examples (columns), each of which has 40 dimensions (rows)\n"
     ]
    }
   ],
   "source": [
    "# Load in the data\n",
    "train_data_x = data['x'].transpose()\n",
    "train_data_y = data['y']\n",
    "val_data_x = data['x_test'].transpose()\n",
    "val_data_y = data['y_test']\n",
    "# Print out sizes\n",
    "print(\"Train data: %d examples (columns), each of which has %d dimensions (rows)\"%((train_data_x.shape[1],train_data_x.shape[0])))\n",
    "print(\"Validation data: %d examples (columns), each of which has %d dimensions (rows)\"%((val_data_x.shape[1],val_data_x.shape[0])))"
   ]
  },
  {
   "cell_type": "markdown",
   "metadata": {
    "id": "_sFvRDGrl4qe"
   },
   "source": [
    "Define the network"
   ]
  },
  {
   "cell_type": "code",
   "execution_count": 8,
   "metadata": {
    "id": "FslroPJJffrh"
   },
   "outputs": [],
   "source": [
    "# There are 40 input dimensions and 10 output dimensions for this data\n",
    "# The inputs correspond to the 40 offsets in the MNIST1D template.\n",
    "D_i = 40\n",
    "# The outputs correspond to the 10 digits\n",
    "D_o = 10\n",
    "\n",
    "\n",
    "# We will adapt this model to have residual connections around the linear layers\n",
    "# This is the same model we used in practical 8.1, but we can't use the sequential\n",
    "# class for residual networks (which aren't strictly sequential).  Hence, I've rewritten\n",
    "# it as a model that inherits from a base class\n",
    "\n",
    "class ResidualNetwork(torch.nn.Module):\n",
    "  def __init__(self, input_size, output_size, hidden_size=100):\n",
    "    super(ResidualNetwork, self).__init__()\n",
    "    self.linear1 = nn.Linear(input_size, hidden_size)\n",
    "    self.linear2 = nn.Linear(hidden_size, hidden_size)\n",
    "    self.linear3 = nn.Linear(hidden_size, hidden_size)\n",
    "    self.linear4 = nn.Linear(hidden_size, output_size)\n",
    "    print(\"Initialized MLPBase model with {} parameters\".format(self.count_params()))\n",
    "\n",
    "  def count_params(self):\n",
    "    return sum([p.view(-1).shape[0] for p in self.parameters()])\n",
    "\n",
    "#  -- Add residual connections to this model\n",
    "# The order of operations within each block should similar to figure 11.5b\n",
    "# ie., linear1 first, ReLU+linear2 in first residual block, ReLU+linear3 in second residual block), linear4 at end\n",
    "# Replace this function\n",
    "  def forward(self, x):\n",
    "    h1 = self.linear1(x)\n",
    "    h2 = self.linear2(h1).relu() + h1\n",
    "    h3 = self.linear3(h2).relu() + h2\n",
    "    return self.linear4(h3) \n"
   ]
  },
  {
   "cell_type": "code",
   "execution_count": 9,
   "metadata": {
    "id": "YgLaex1pfhqz"
   },
   "outputs": [],
   "source": [
    "# He initialization of weights\n",
    "def weights_init(layer_in):\n",
    "  if isinstance(layer_in, nn.Linear):\n",
    "    nn.init.kaiming_uniform_(layer_in.weight)\n",
    "    layer_in.bias.data.fill_(0.0)"
   ]
  },
  {
   "cell_type": "code",
   "execution_count": 10,
   "metadata": {
    "id": "NYw8I_3mmX5c"
   },
   "outputs": [
    {
     "name": "stdout",
     "output_type": "stream",
     "text": [
      "Initialized MLPBase model with 25310 parameters\n",
      "Epoch     0, train loss 1.622469, train error 62.55,  val loss 1.728407, percent error 66.50\n",
      "Epoch     1, train loss 1.185969, train error 43.65,  val loss 1.332840, percent error 51.00\n",
      "Epoch     2, train loss 0.995685, train error 37.47,  val loss 1.223063, percent error 49.00\n",
      "Epoch     3, train loss 0.915168, train error 34.78,  val loss 1.161957, percent error 44.30\n",
      "Epoch     4, train loss 0.779891, train error 29.15,  val loss 1.109654, percent error 40.70\n",
      "Epoch     5, train loss 0.755049, train error 28.45,  val loss 1.170683, percent error 43.00\n",
      "Epoch     6, train loss 0.668480, train error 25.20,  val loss 1.074127, percent error 39.60\n",
      "Epoch     7, train loss 0.581564, train error 21.00,  val loss 1.089635, percent error 38.70\n",
      "Epoch     8, train loss 0.586917, train error 21.75,  val loss 1.137860, percent error 37.00\n",
      "Epoch     9, train loss 0.597148, train error 21.72,  val loss 1.244989, percent error 39.70\n",
      "Epoch    10, train loss 0.514368, train error 19.80,  val loss 1.203770, percent error 38.50\n",
      "Epoch    11, train loss 0.426351, train error 15.62,  val loss 1.203032, percent error 38.30\n",
      "Epoch    12, train loss 0.397495, train error 13.85,  val loss 1.261418, percent error 37.70\n",
      "Epoch    13, train loss 0.449883, train error 16.93,  val loss 1.303527, percent error 37.60\n",
      "Epoch    14, train loss 0.394419, train error 13.93,  val loss 1.276386, percent error 36.30\n",
      "Epoch    15, train loss 0.382103, train error 14.10,  val loss 1.411121, percent error 38.30\n",
      "Epoch    16, train loss 0.392748, train error 14.55,  val loss 1.427845, percent error 37.50\n",
      "Epoch    17, train loss 0.443169, train error 15.47,  val loss 1.423742, percent error 36.30\n",
      "Epoch    18, train loss 0.378111, train error 13.20,  val loss 1.555414, percent error 38.10\n",
      "Epoch    19, train loss 0.395677, train error 13.35,  val loss 1.657558, percent error 37.40\n",
      "Epoch    20, train loss 0.098452, train error 2.47,  val loss 1.246252, percent error 33.30\n",
      "Epoch    21, train loss 0.047422, train error 0.45,  val loss 1.242721, percent error 32.50\n",
      "Epoch    22, train loss 0.031562, train error 0.20,  val loss 1.192634, percent error 30.00\n",
      "Epoch    23, train loss 0.022669, train error 0.00,  val loss 1.236768, percent error 31.20\n",
      "Epoch    24, train loss 0.018047, train error 0.00,  val loss 1.244835, percent error 30.90\n",
      "Epoch    25, train loss 0.014866, train error 0.00,  val loss 1.264389, percent error 30.50\n",
      "Epoch    26, train loss 0.013060, train error 0.00,  val loss 1.282288, percent error 31.00\n",
      "Epoch    27, train loss 0.011744, train error 0.00,  val loss 1.299129, percent error 30.60\n",
      "Epoch    28, train loss 0.010581, train error 0.00,  val loss 1.314030, percent error 30.80\n",
      "Epoch    29, train loss 0.009650, train error 0.00,  val loss 1.330357, percent error 31.00\n",
      "Epoch    30, train loss 0.008979, train error 0.00,  val loss 1.340295, percent error 30.70\n",
      "Epoch    31, train loss 0.008323, train error 0.00,  val loss 1.356082, percent error 30.60\n",
      "Epoch    32, train loss 0.007763, train error 0.00,  val loss 1.368382, percent error 30.70\n",
      "Epoch    33, train loss 0.007371, train error 0.00,  val loss 1.381668, percent error 30.70\n",
      "Epoch    34, train loss 0.006780, train error 0.00,  val loss 1.389242, percent error 30.70\n",
      "Epoch    35, train loss 0.006401, train error 0.00,  val loss 1.398767, percent error 30.60\n",
      "Epoch    36, train loss 0.006026, train error 0.00,  val loss 1.407623, percent error 30.80\n",
      "Epoch    37, train loss 0.005726, train error 0.00,  val loss 1.417881, percent error 30.80\n",
      "Epoch    38, train loss 0.005434, train error 0.00,  val loss 1.424945, percent error 30.70\n",
      "Epoch    39, train loss 0.005194, train error 0.00,  val loss 1.433411, percent error 30.80\n",
      "Epoch    40, train loss 0.005054, train error 0.00,  val loss 1.437567, percent error 30.80\n",
      "Epoch    41, train loss 0.004941, train error 0.00,  val loss 1.442706, percent error 30.80\n",
      "Epoch    42, train loss 0.004834, train error 0.00,  val loss 1.445599, percent error 30.80\n",
      "Epoch    43, train loss 0.004732, train error 0.00,  val loss 1.449481, percent error 30.80\n",
      "Epoch    44, train loss 0.004636, train error 0.00,  val loss 1.453208, percent error 30.80\n",
      "Epoch    45, train loss 0.004546, train error 0.00,  val loss 1.457335, percent error 30.70\n",
      "Epoch    46, train loss 0.004452, train error 0.00,  val loss 1.461190, percent error 30.50\n",
      "Epoch    47, train loss 0.004369, train error 0.00,  val loss 1.464098, percent error 30.60\n",
      "Epoch    48, train loss 0.004284, train error 0.00,  val loss 1.467383, percent error 30.60\n",
      "Epoch    49, train loss 0.004201, train error 0.00,  val loss 1.470666, percent error 30.60\n",
      "Epoch    50, train loss 0.004126, train error 0.00,  val loss 1.474929, percent error 30.70\n",
      "Epoch    51, train loss 0.004050, train error 0.00,  val loss 1.477444, percent error 30.60\n",
      "Epoch    52, train loss 0.003977, train error 0.00,  val loss 1.480138, percent error 30.60\n",
      "Epoch    53, train loss 0.003907, train error 0.00,  val loss 1.483848, percent error 30.60\n",
      "Epoch    54, train loss 0.003839, train error 0.00,  val loss 1.487321, percent error 30.60\n",
      "Epoch    55, train loss 0.003774, train error 0.00,  val loss 1.490446, percent error 30.60\n",
      "Epoch    56, train loss 0.003711, train error 0.00,  val loss 1.493437, percent error 30.60\n",
      "Epoch    57, train loss 0.003649, train error 0.00,  val loss 1.496739, percent error 30.60\n",
      "Epoch    58, train loss 0.003590, train error 0.00,  val loss 1.500313, percent error 30.60\n",
      "Epoch    59, train loss 0.003533, train error 0.00,  val loss 1.503290, percent error 30.70\n",
      "Epoch    60, train loss 0.003503, train error 0.00,  val loss 1.503950, percent error 30.60\n",
      "Epoch    61, train loss 0.003475, train error 0.00,  val loss 1.505719, percent error 30.60\n",
      "Epoch    62, train loss 0.003448, train error 0.00,  val loss 1.507279, percent error 30.60\n",
      "Epoch    63, train loss 0.003421, train error 0.00,  val loss 1.508376, percent error 30.60\n",
      "Epoch    64, train loss 0.003394, train error 0.00,  val loss 1.509829, percent error 30.60\n",
      "Epoch    65, train loss 0.003368, train error 0.00,  val loss 1.511203, percent error 30.60\n",
      "Epoch    66, train loss 0.003343, train error 0.00,  val loss 1.512613, percent error 30.60\n",
      "Epoch    67, train loss 0.003318, train error 0.00,  val loss 1.514448, percent error 30.60\n",
      "Epoch    68, train loss 0.003293, train error 0.00,  val loss 1.515466, percent error 30.60\n",
      "Epoch    69, train loss 0.003269, train error 0.00,  val loss 1.517146, percent error 30.60\n",
      "Epoch    70, train loss 0.003245, train error 0.00,  val loss 1.518339, percent error 30.60\n",
      "Epoch    71, train loss 0.003221, train error 0.00,  val loss 1.519098, percent error 30.60\n",
      "Epoch    72, train loss 0.003197, train error 0.00,  val loss 1.520945, percent error 30.60\n",
      "Epoch    73, train loss 0.003174, train error 0.00,  val loss 1.522807, percent error 30.60\n",
      "Epoch    74, train loss 0.003151, train error 0.00,  val loss 1.523687, percent error 30.60\n",
      "Epoch    75, train loss 0.003129, train error 0.00,  val loss 1.524723, percent error 30.60\n",
      "Epoch    76, train loss 0.003106, train error 0.00,  val loss 1.526654, percent error 30.60\n",
      "Epoch    77, train loss 0.003085, train error 0.00,  val loss 1.527722, percent error 30.70\n",
      "Epoch    78, train loss 0.003063, train error 0.00,  val loss 1.529505, percent error 30.60\n",
      "Epoch    79, train loss 0.003042, train error 0.00,  val loss 1.530456, percent error 30.70\n",
      "Epoch    80, train loss 0.003031, train error 0.00,  val loss 1.531141, percent error 30.80\n",
      "Epoch    81, train loss 0.003021, train error 0.00,  val loss 1.531685, percent error 30.60\n",
      "Epoch    82, train loss 0.003010, train error 0.00,  val loss 1.532339, percent error 30.70\n",
      "Epoch    83, train loss 0.003000, train error 0.00,  val loss 1.532723, percent error 30.80\n",
      "Epoch    84, train loss 0.002990, train error 0.00,  val loss 1.533569, percent error 30.70\n",
      "Epoch    85, train loss 0.002979, train error 0.00,  val loss 1.534022, percent error 30.70\n",
      "Epoch    86, train loss 0.002969, train error 0.00,  val loss 1.534823, percent error 30.70\n",
      "Epoch    87, train loss 0.002959, train error 0.00,  val loss 1.535457, percent error 30.80\n",
      "Epoch    88, train loss 0.002949, train error 0.00,  val loss 1.536026, percent error 30.70\n",
      "Epoch    89, train loss 0.002939, train error 0.00,  val loss 1.536637, percent error 30.80\n",
      "Epoch    90, train loss 0.002930, train error 0.00,  val loss 1.537345, percent error 30.70\n",
      "Epoch    91, train loss 0.002920, train error 0.00,  val loss 1.538090, percent error 30.70\n",
      "Epoch    92, train loss 0.002910, train error 0.00,  val loss 1.538732, percent error 30.80\n",
      "Epoch    93, train loss 0.002901, train error 0.00,  val loss 1.539212, percent error 30.80\n",
      "Epoch    94, train loss 0.002891, train error 0.00,  val loss 1.539829, percent error 30.80\n",
      "Epoch    95, train loss 0.002881, train error 0.00,  val loss 1.540321, percent error 30.80\n",
      "Epoch    96, train loss 0.002872, train error 0.00,  val loss 1.540872, percent error 30.80\n",
      "Epoch    97, train loss 0.002863, train error 0.00,  val loss 1.541933, percent error 30.80\n",
      "Epoch    98, train loss 0.002853, train error 0.00,  val loss 1.541970, percent error 30.80\n",
      "Epoch    99, train loss 0.002844, train error 0.00,  val loss 1.542832, percent error 30.80\n"
     ]
    }
   ],
   "source": [
    "#Define the model\n",
    "model = ResidualNetwork(40, 10)\n",
    "\n",
    "# choose cross entropy loss function (equation 5.24 in the loss notes)\n",
    "loss_function = nn.CrossEntropyLoss()\n",
    "# construct SGD optimizer and initialize learning rate and momentum\n",
    "optimizer = torch.optim.SGD(model.parameters(), lr = 0.05, momentum=0.9)\n",
    "# object that decreases learning rate by half every 20 epochs\n",
    "scheduler = StepLR(optimizer, step_size=20, gamma=0.5)\n",
    "# convert data to torch tensors\n",
    "x_train = torch.tensor(train_data_x.transpose().astype('float32'))\n",
    "y_train = torch.tensor(train_data_y.astype('long'))\n",
    "x_val= torch.tensor(val_data_x.transpose().astype('float32'))\n",
    "y_val = torch.tensor(val_data_y.astype('long'))\n",
    "\n",
    "# load the data into a class that creates the batches\n",
    "data_loader = DataLoader(TensorDataset(x_train,y_train), batch_size=100, shuffle=True, worker_init_fn=np.random.seed(1))\n",
    "\n",
    "# Initialize model weights\n",
    "model.apply(weights_init)\n",
    "\n",
    "# loop over the dataset n_epoch times\n",
    "n_epoch = 100\n",
    "# store the loss and the % correct at each epoch\n",
    "losses_train = np.zeros((n_epoch))\n",
    "errors_train = np.zeros((n_epoch))\n",
    "losses_val = np.zeros((n_epoch))\n",
    "errors_val = np.zeros((n_epoch))\n",
    "\n",
    "for epoch in range(n_epoch):\n",
    "  # loop over batches\n",
    "  for i, data in enumerate(data_loader):\n",
    "    # retrieve inputs and labels for this batch\n",
    "    x_batch, y_batch = data\n",
    "    # zero the parameter gradients\n",
    "    optimizer.zero_grad()\n",
    "    # forward pass -- calculate model output\n",
    "    pred = model(x_batch)\n",
    "    # compute the loss\n",
    "    loss = loss_function(pred, y_batch)\n",
    "    # backward pass\n",
    "    loss.backward()\n",
    "    # SGD update\n",
    "    optimizer.step()\n",
    "\n",
    "  # Run whole dataset to get statistics -- normally wouldn't do this\n",
    "  pred_train = model(x_train)\n",
    "  pred_val = model(x_val)\n",
    "  _, predicted_train_class = torch.max(pred_train.data, 1)\n",
    "  _, predicted_val_class = torch.max(pred_val.data, 1)\n",
    "  errors_train[epoch] = 100 - 100 * (predicted_train_class == y_train).float().sum() / len(y_train)\n",
    "  errors_val[epoch]= 100 - 100 * (predicted_val_class == y_val).float().sum() / len(y_val)\n",
    "  losses_train[epoch] = loss_function(pred_train, y_train).item()\n",
    "  losses_val[epoch]= loss_function(pred_val, y_val).item()\n",
    "  print(f'Epoch {epoch:5d}, train loss {losses_train[epoch]:.6f}, train error {errors_train[epoch]:3.2f},  val loss {losses_val[epoch]:.6f}, percent error {errors_val[epoch]:3.2f}')\n",
    "\n",
    "  # tell scheduler to consider updating learning rate\n",
    "  scheduler.step()"
   ]
  },
  {
   "cell_type": "code",
   "execution_count": 11,
   "metadata": {
    "id": "CcP_VyEmE2sv"
   },
   "outputs": [
    {
     "data": {
      "image/png": "[encoded data removed]",
      "text/plain": [
       "<Figure size 640x480 with 1 Axes>"
      ]
     },
     "metadata": {},
     "output_type": "display_data"
    }
   ],
   "source": [
    "# Plot the results\n",
    "fig, ax = plt.subplots()\n",
    "ax.plot(errors_train,'r-',label='train')\n",
    "ax.plot(errors_val,'b-',label='test')\n",
    "ax.set_ylim(0,100); ax.set_xlim(0,n_epoch)\n",
    "ax.set_xlabel('Epoch'); ax.set_ylabel('Error')\n",
    "ax.set_title('TrainError %3.2f, Val Error %3.2f'%(errors_train[-1],errors_val[-1]))\n",
    "ax.legend()\n",
    "plt.show()"
   ]
  },
  {
   "cell_type": "markdown",
   "metadata": {
    "id": "wMmqhmxuAx0M"
   },
   "source": [
    "The primary motivation of residual networks is to allow training of much deeper networks.   \n",
    "\n",
    "TODO: Try running this network with and without the residual connections.  Does adding the residual connections change the performance?"
   ]
  }
 ],
 "metadata": {
  "colab": {
   "authorship_tag": "ABX9TyNIY8tswL9e48d5D53aSmHO",
   "include_colab_link": true,
   "provenance": []
  },
  "kernelspec": {
   "display_name": "Python 3",
   "name": "python3"
  },
  "language_info": {
   "codemirror_mode": {
    "name": "ipython",
    "version": 3
   },
   "file_extension": ".py",
   "mimetype": "text/x-python",
   "name": "python",
   "nbconvert_exporter": "python",
   "pygments_lexer": "ipython3",
   "version": "3.10.13"
  }
 },
 "nbformat": 4,
 "nbformat_minor": 0
}
